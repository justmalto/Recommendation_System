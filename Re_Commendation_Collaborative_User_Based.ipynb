{
  "nbformat": 4,
  "nbformat_minor": 0,
  "metadata": {
    "colab": {
      "provenance": []
    },
    "kernelspec": {
      "name": "python3",
      "display_name": "Python 3"
    },
    "language_info": {
      "name": "python"
    },
    "accelerator": "GPU"
  },
  "cells": [
    {
      "cell_type": "code",
      "metadata": {
        "colab": {
          "base_uri": "https://localhost:8080/"
        },
        "id": "8ME5fV532xj0",
        "outputId": "da14253b-5155-479c-e64b-9f946420cf0e"
      },
      "source": [
        "#### Connecting to the Google Drive\n",
        "from google.colab import drive\n",
        "drive.mount('/gdrive/')\n",
        "%cd /gdrive"
      ],
      "execution_count": null,
      "outputs": [
        {
          "output_type": "stream",
          "name": "stdout",
          "text": [
            "Mounted at /gdrive/\n",
            "/gdrive\n"
          ]
        }
      ]
    },
    {
      "cell_type": "code",
      "metadata": {
        "colab": {
          "base_uri": "https://localhost:8080/"
        },
        "id": "4jVdD40n4FyR",
        "outputId": "e7fc3b08-d656-45ce-b0c8-573914a638dd"
      },
      "source": [
        "# importing libraries\n",
        "import pandas as pd\n",
        "import numpy as np\n",
        "\n",
        "# pass in column names for each CSV as the column name is not given in the file and read them using pandas.\n",
        "# You can check the column names from the readme file\n",
        "\n",
        "# reading users file:\n",
        "u_cols = ['user_id', 'age', 'sex', 'occupation', 'zip_code']\n",
        "users = pd.read_csv('My Drive/ml-100k/ml-100k/u.user', sep='|', names=u_cols,encoding='latin-1')\n",
        "\n",
        "# reading ratings file:\n",
        "r_cols = ['user_id', 'movie_id', 'rating', 'unix_timestamp']\n",
        "ratings = pd.read_csv('My Drive/ml-100k/ml-100k/u.data', sep='\\t', names=r_cols,encoding='latin-1')\n",
        "\n",
        "# reading items file:\n",
        "i_cols = ['movie id', 'movie title' ,'release date','video release date', 'IMDb URL', 'unknown', 'Action', 'Adventure',\n",
        "'Animation', 'Children\\'s', 'Comedy', 'Crime', 'Documentary', 'Drama', 'Fantasy',\n",
        "'Film-Noir', 'Horror', 'Musical', 'Mystery', 'Romance', 'Sci-Fi', 'Thriller', 'War', 'Western']\n",
        "items = pd.read_csv('My Drive/ml-100k/ml-100k/u.item', sep='|', names=i_cols,\n",
        "encoding='latin-1')\n",
        "\n",
        "# After loading the dataset, we should look at the content of each file (users, ratings, items).\n",
        "\n",
        "# Looking at the user file\n",
        "print(\"\\nUser Data :\")\n",
        "print(\"shape : \", users.shape)\n",
        "print(users.head())\n",
        "\n",
        "# We have 943 users in the dataset and each user has 5 features, i.e. user_ID, age, sex, occupation and zip_code. Now let’s look at the ratings file.\n",
        "\n",
        "# Ratings Data\n",
        "print(\"\\nRatings Data :\")\n",
        "print(\"shape : \", ratings.shape)\n",
        "print(ratings.head())\n",
        "\n",
        "# We have 100k ratings for different user and movie combinations. Now finally examine the items file.\n",
        "\n",
        "# Item Data\n",
        "print(\"\\nItem Data :\")\n",
        "print(\"shape : \", items.shape)\n",
        "print(items.head())"
      ],
      "execution_count": null,
      "outputs": [
        {
          "output_type": "stream",
          "name": "stdout",
          "text": [
            "\n",
            "User Data :\n",
            "shape :  (943, 5)\n",
            "   user_id  age sex  occupation zip_code\n",
            "0        1   24   M  technician    85711\n",
            "1        2   53   F       other    94043\n",
            "2        3   23   M      writer    32067\n",
            "3        4   24   M  technician    43537\n",
            "4        5   33   F       other    15213\n",
            "\n",
            "Ratings Data :\n",
            "shape :  (100000, 4)\n",
            "   user_id  movie_id  rating  unix_timestamp\n",
            "0      196       242       3       881250949\n",
            "1      186       302       3       891717742\n",
            "2       22       377       1       878887116\n",
            "3      244        51       2       880606923\n",
            "4      166       346       1       886397596\n",
            "\n",
            "Item Data :\n",
            "shape :  (1682, 24)\n",
            "   movie id        movie title release date  ...  Thriller War  Western\n",
            "0         1   Toy Story (1995)  01-Jan-1995  ...         0   0        0\n",
            "1         2   GoldenEye (1995)  01-Jan-1995  ...         1   0        0\n",
            "2         3  Four Rooms (1995)  01-Jan-1995  ...         1   0        0\n",
            "3         4  Get Shorty (1995)  01-Jan-1995  ...         0   0        0\n",
            "4         5     Copycat (1995)  01-Jan-1995  ...         1   0        0\n",
            "\n",
            "[5 rows x 24 columns]\n"
          ]
        }
      ]
    },
    {
      "cell_type": "code",
      "metadata": {
        "colab": {
          "base_uri": "https://localhost:8080/"
        },
        "id": "qhB2VMaa3bO4",
        "outputId": "dd7aaad5-a5ab-4ca0-e031-536e8abcc912"
      },
      "source": [
        "r_cols = ['user_id', 'movie_id', 'rating', 'unix_timestamp']\n",
        "ratings_train = pd.read_csv('My Drive/ml-100k/ml-100k/ua.base', sep='\\t', names=r_cols, encoding='latin-1')\n",
        "ratings_test = pd.read_csv('My Drive/ml-100k/ml-100k/ua.test', sep='\\t', names=r_cols, encoding='latin-1')\n",
        "ratings_train.shape, ratings_test.shape"
      ],
      "execution_count": null,
      "outputs": [
        {
          "output_type": "execute_result",
          "data": {
            "text/plain": [
              "((90570, 4), (9430, 4))"
            ]
          },
          "metadata": {},
          "execution_count": 4
        }
      ]
    },
    {
      "cell_type": "markdown",
      "metadata": {
        "id": "LNZxFki2PhDa"
      },
      "source": [
        "Building the Collaborative Filtering from scratch"
      ]
    },
    {
      "cell_type": "code",
      "metadata": {
        "id": "5ayMKneCPebm"
      },
      "source": [
        "n_users = ratings.user_id.unique().shape[0]\n",
        "n_items = ratings.movie_id.unique().shape[0]"
      ],
      "execution_count": null,
      "outputs": []
    },
    {
      "cell_type": "code",
      "metadata": {
        "id": "xTiCOJx95Q6Q"
      },
      "source": [
        "data_matrix = np.zeros((n_users, n_items))\n",
        "for line in ratings.itertuples():\n",
        "    data_matrix[line[1]-1, line[2]-1] = line[3]"
      ],
      "execution_count": null,
      "outputs": []
    },
    {
      "cell_type": "code",
      "metadata": {
        "id": "jIUWS3LuPokj"
      },
      "source": [
        "from sklearn.metrics.pairwise import pairwise_distances\n",
        "user_similarity = pairwise_distances(data_matrix, metric='cosine')\n",
        "item_similarity = pairwise_distances(data_matrix.T, metric='cosine')"
      ],
      "execution_count": null,
      "outputs": []
    },
    {
      "cell_type": "code",
      "metadata": {
        "id": "bc1wn_QgPu1w"
      },
      "source": [
        "def predict(ratings, similarity, type='user'):\n",
        "    if type == 'user':\n",
        "        mean_user_rating = ratings.mean(axis=1)\n",
        "        #We use np.newaxis so that mean_user_rating has same format as ratings\n",
        "        ratings_diff = (ratings - mean_user_rating[:, np.newaxis])\n",
        "        pred = mean_user_rating[:, np.newaxis] + similarity.dot(ratings_diff) / np.array([np.abs(similarity).sum(axis=1)]).T\n",
        "    elif type == 'item':\n",
        "        pred = ratings.dot(similarity) / np.array([np.abs(similarity).sum(axis=1)])\n",
        "    return pred"
      ],
      "execution_count": null,
      "outputs": []
    },
    {
      "cell_type": "code",
      "metadata": {
        "id": "H8wcQ1kUPyEy"
      },
      "source": [
        "user_prediction = predict(data_matrix, user_similarity, type='user')\n",
        "item_prediction = predict(data_matrix, item_similarity, type='item')"
      ],
      "execution_count": null,
      "outputs": []
    },
    {
      "cell_type": "code",
      "source": [
        "!pip install turicreate\n",
        "import turicreate"
      ],
      "metadata": {
        "colab": {
          "base_uri": "https://localhost:8080/",
          "height": 1000
        },
        "id": "tr5S9VoIXPFZ",
        "outputId": "a0432301-5b04-4b09-ce57-8a0de3562f3a"
      },
      "execution_count": null,
      "outputs": [
        {
          "output_type": "stream",
          "name": "stdout",
          "text": [
            "Collecting turicreate\n",
            "  Downloading turicreate-6.4.1-cp37-cp37m-manylinux1_x86_64.whl (92.0 MB)\n",
            "\u001b[K     |████████████████████████████████| 92.0 MB 16 kB/s \n",
            "\u001b[?25hRequirement already satisfied: six>=1.10.0 in /usr/local/lib/python3.7/dist-packages (from turicreate) (1.15.0)\n",
            "Requirement already satisfied: decorator>=4.0.9 in /usr/local/lib/python3.7/dist-packages (from turicreate) (4.4.2)\n",
            "Collecting resampy==0.2.1\n",
            "  Downloading resampy-0.2.1.tar.gz (322 kB)\n",
            "\u001b[K     |████████████████████████████████| 322 kB 45.5 MB/s \n",
            "\u001b[?25hCollecting prettytable==0.7.2\n",
            "  Downloading prettytable-0.7.2.zip (28 kB)\n",
            "Requirement already satisfied: numpy in /usr/local/lib/python3.7/dist-packages (from turicreate) (1.19.5)\n",
            "Requirement already satisfied: scipy>=1.1.0 in /usr/local/lib/python3.7/dist-packages (from turicreate) (1.4.1)\n",
            "Collecting tensorflow<2.1.0,>=2.0.0\n",
            "  Downloading tensorflow-2.0.4-cp37-cp37m-manylinux2010_x86_64.whl (86.4 MB)\n",
            "\u001b[K     |████████████████████████████████| 86.4 MB 87 kB/s \n",
            "\u001b[?25hRequirement already satisfied: pandas>=0.23.2 in /usr/local/lib/python3.7/dist-packages (from turicreate) (1.1.5)\n",
            "Requirement already satisfied: requests>=2.9.1 in /usr/local/lib/python3.7/dist-packages (from turicreate) (2.23.0)\n",
            "Collecting coremltools==3.3\n",
            "  Downloading coremltools-3.3-cp37-none-manylinux1_x86_64.whl (3.5 MB)\n",
            "\u001b[K     |████████████████████████████████| 3.5 MB 30.3 MB/s \n",
            "\u001b[?25hCollecting numba<0.51.0\n",
            "  Downloading numba-0.50.1-cp37-cp37m-manylinux2014_x86_64.whl (3.6 MB)\n",
            "\u001b[K     |████████████████████████████████| 3.6 MB 36.2 MB/s \n",
            "\u001b[?25hRequirement already satisfied: pillow>=5.2.0 in /usr/local/lib/python3.7/dist-packages (from turicreate) (7.1.2)\n",
            "Requirement already satisfied: protobuf>=3.1.0 in /usr/local/lib/python3.7/dist-packages (from coremltools==3.3->turicreate) (3.17.3)\n",
            "Requirement already satisfied: setuptools in /usr/local/lib/python3.7/dist-packages (from numba<0.51.0->turicreate) (57.4.0)\n",
            "Collecting llvmlite<0.34,>=0.33.0.dev0\n",
            "  Downloading llvmlite-0.33.0-cp37-cp37m-manylinux1_x86_64.whl (18.3 MB)\n",
            "\u001b[K     |████████████████████████████████| 18.3 MB 17.9 MB/s \n",
            "\u001b[?25hRequirement already satisfied: python-dateutil>=2.7.3 in /usr/local/lib/python3.7/dist-packages (from pandas>=0.23.2->turicreate) (2.8.2)\n",
            "Requirement already satisfied: pytz>=2017.2 in /usr/local/lib/python3.7/dist-packages (from pandas>=0.23.2->turicreate) (2018.9)\n",
            "Requirement already satisfied: chardet<4,>=3.0.2 in /usr/local/lib/python3.7/dist-packages (from requests>=2.9.1->turicreate) (3.0.4)\n",
            "Requirement already satisfied: certifi>=2017.4.17 in /usr/local/lib/python3.7/dist-packages (from requests>=2.9.1->turicreate) (2021.10.8)\n",
            "Requirement already satisfied: urllib3!=1.25.0,!=1.25.1,<1.26,>=1.21.1 in /usr/local/lib/python3.7/dist-packages (from requests>=2.9.1->turicreate) (1.24.3)\n",
            "Requirement already satisfied: idna<3,>=2.5 in /usr/local/lib/python3.7/dist-packages (from requests>=2.9.1->turicreate) (2.10)\n",
            "Collecting tensorflow-estimator<2.1.0,>=2.0.0\n",
            "  Downloading tensorflow_estimator-2.0.1-py2.py3-none-any.whl (449 kB)\n",
            "\u001b[K     |████████████████████████████████| 449 kB 43.5 MB/s \n",
            "\u001b[?25hRequirement already satisfied: wrapt>=1.11.1 in /usr/local/lib/python3.7/dist-packages (from tensorflow<2.1.0,>=2.0.0->turicreate) (1.13.3)\n",
            "Collecting numpy\n",
            "  Downloading numpy-1.18.5-cp37-cp37m-manylinux1_x86_64.whl (20.1 MB)\n",
            "\u001b[K     |████████████████████████████████| 20.1 MB 1.2 MB/s \n",
            "\u001b[?25hRequirement already satisfied: grpcio>=1.8.6 in /usr/local/lib/python3.7/dist-packages (from tensorflow<2.1.0,>=2.0.0->turicreate) (1.42.0)\n",
            "Requirement already satisfied: absl-py>=0.7.0 in /usr/local/lib/python3.7/dist-packages (from tensorflow<2.1.0,>=2.0.0->turicreate) (0.12.0)\n",
            "Collecting tensorboard<2.1.0,>=2.0.0\n",
            "  Downloading tensorboard-2.0.2-py3-none-any.whl (3.8 MB)\n",
            "\u001b[K     |████████████████████████████████| 3.8 MB 45.0 MB/s \n",
            "\u001b[?25hRequirement already satisfied: astor>=0.6.0 in /usr/local/lib/python3.7/dist-packages (from tensorflow<2.1.0,>=2.0.0->turicreate) (0.8.1)\n",
            "Requirement already satisfied: wheel>=0.26 in /usr/local/lib/python3.7/dist-packages (from tensorflow<2.1.0,>=2.0.0->turicreate) (0.37.0)\n",
            "Collecting gast==0.2.2\n",
            "  Downloading gast-0.2.2.tar.gz (10 kB)\n",
            "Requirement already satisfied: keras-preprocessing>=1.0.5 in /usr/local/lib/python3.7/dist-packages (from tensorflow<2.1.0,>=2.0.0->turicreate) (1.1.2)\n",
            "Requirement already satisfied: google-pasta>=0.1.6 in /usr/local/lib/python3.7/dist-packages (from tensorflow<2.1.0,>=2.0.0->turicreate) (0.2.0)\n",
            "Requirement already satisfied: termcolor>=1.1.0 in /usr/local/lib/python3.7/dist-packages (from tensorflow<2.1.0,>=2.0.0->turicreate) (1.1.0)\n",
            "Collecting keras-applications>=1.0.8\n",
            "  Downloading Keras_Applications-1.0.8-py3-none-any.whl (50 kB)\n",
            "\u001b[K     |████████████████████████████████| 50 kB 6.4 MB/s \n",
            "\u001b[?25hCollecting h5py<=2.10.0\n",
            "  Downloading h5py-2.10.0-cp37-cp37m-manylinux1_x86_64.whl (2.9 MB)\n",
            "\u001b[K     |████████████████████████████████| 2.9 MB 35.3 MB/s \n",
            "\u001b[?25hRequirement already satisfied: opt-einsum>=2.3.2 in /usr/local/lib/python3.7/dist-packages (from tensorflow<2.1.0,>=2.0.0->turicreate) (3.3.0)\n",
            "Requirement already satisfied: werkzeug>=0.11.15 in /usr/local/lib/python3.7/dist-packages (from tensorboard<2.1.0,>=2.0.0->tensorflow<2.1.0,>=2.0.0->turicreate) (1.0.1)\n",
            "Requirement already satisfied: google-auth-oauthlib<0.5,>=0.4.1 in /usr/local/lib/python3.7/dist-packages (from tensorboard<2.1.0,>=2.0.0->tensorflow<2.1.0,>=2.0.0->turicreate) (0.4.6)\n",
            "Requirement already satisfied: markdown>=2.6.8 in /usr/local/lib/python3.7/dist-packages (from tensorboard<2.1.0,>=2.0.0->tensorflow<2.1.0,>=2.0.0->turicreate) (3.3.6)\n",
            "Requirement already satisfied: google-auth<2,>=1.6.3 in /usr/local/lib/python3.7/dist-packages (from tensorboard<2.1.0,>=2.0.0->tensorflow<2.1.0,>=2.0.0->turicreate) (1.35.0)\n",
            "Requirement already satisfied: cachetools<5.0,>=2.0.0 in /usr/local/lib/python3.7/dist-packages (from google-auth<2,>=1.6.3->tensorboard<2.1.0,>=2.0.0->tensorflow<2.1.0,>=2.0.0->turicreate) (4.2.4)\n",
            "Requirement already satisfied: rsa<5,>=3.1.4 in /usr/local/lib/python3.7/dist-packages (from google-auth<2,>=1.6.3->tensorboard<2.1.0,>=2.0.0->tensorflow<2.1.0,>=2.0.0->turicreate) (4.8)\n",
            "Requirement already satisfied: pyasn1-modules>=0.2.1 in /usr/local/lib/python3.7/dist-packages (from google-auth<2,>=1.6.3->tensorboard<2.1.0,>=2.0.0->tensorflow<2.1.0,>=2.0.0->turicreate) (0.2.8)\n",
            "Requirement already satisfied: requests-oauthlib>=0.7.0 in /usr/local/lib/python3.7/dist-packages (from google-auth-oauthlib<0.5,>=0.4.1->tensorboard<2.1.0,>=2.0.0->tensorflow<2.1.0,>=2.0.0->turicreate) (1.3.0)\n",
            "Requirement already satisfied: importlib-metadata>=4.4 in /usr/local/lib/python3.7/dist-packages (from markdown>=2.6.8->tensorboard<2.1.0,>=2.0.0->tensorflow<2.1.0,>=2.0.0->turicreate) (4.8.2)\n",
            "Requirement already satisfied: typing-extensions>=3.6.4 in /usr/local/lib/python3.7/dist-packages (from importlib-metadata>=4.4->markdown>=2.6.8->tensorboard<2.1.0,>=2.0.0->tensorflow<2.1.0,>=2.0.0->turicreate) (3.10.0.2)\n",
            "Requirement already satisfied: zipp>=0.5 in /usr/local/lib/python3.7/dist-packages (from importlib-metadata>=4.4->markdown>=2.6.8->tensorboard<2.1.0,>=2.0.0->tensorflow<2.1.0,>=2.0.0->turicreate) (3.6.0)\n",
            "Requirement already satisfied: pyasn1<0.5.0,>=0.4.6 in /usr/local/lib/python3.7/dist-packages (from pyasn1-modules>=0.2.1->google-auth<2,>=1.6.3->tensorboard<2.1.0,>=2.0.0->tensorflow<2.1.0,>=2.0.0->turicreate) (0.4.8)\n",
            "Requirement already satisfied: oauthlib>=3.0.0 in /usr/local/lib/python3.7/dist-packages (from requests-oauthlib>=0.7.0->google-auth-oauthlib<0.5,>=0.4.1->tensorboard<2.1.0,>=2.0.0->tensorflow<2.1.0,>=2.0.0->turicreate) (3.1.1)\n",
            "Building wheels for collected packages: prettytable, resampy, gast\n",
            "  Building wheel for prettytable (setup.py) ... \u001b[?25l\u001b[?25hdone\n",
            "  Created wheel for prettytable: filename=prettytable-0.7.2-py3-none-any.whl size=13714 sha256=acf8be8346afbdbf6bc3b088ff685ec4ce8e11876650018001ab776eaa7986d4\n",
            "  Stored in directory: /root/.cache/pip/wheels/b2/7f/f6/f180315b584f00445045ff1699b550fa895d09471337ce21c6\n",
            "  Building wheel for resampy (setup.py) ... \u001b[?25l\u001b[?25hdone\n",
            "  Created wheel for resampy: filename=resampy-0.2.1-py3-none-any.whl size=320860 sha256=ddaa6c519e52cab525580a80daddd904d212e0c324a61fea905dce9e3175662e\n",
            "  Stored in directory: /root/.cache/pip/wheels/71/74/53/d5ceb7c5ee7a168c7d106041863e71ac3273f4a4677743a284\n",
            "  Building wheel for gast (setup.py) ... \u001b[?25l\u001b[?25hdone\n",
            "  Created wheel for gast: filename=gast-0.2.2-py3-none-any.whl size=7554 sha256=189bb7f267ea0e11f2768d74e9c740dd4a1e79bc929f65c318aa0b481ad6b1a7\n",
            "  Stored in directory: /root/.cache/pip/wheels/21/7f/02/420f32a803f7d0967b48dd823da3f558c5166991bfd204eef3\n",
            "Successfully built prettytable resampy gast\n",
            "Installing collected packages: numpy, llvmlite, h5py, tensorflow-estimator, tensorboard, numba, keras-applications, gast, tensorflow, resampy, prettytable, coremltools, turicreate\n",
            "  Attempting uninstall: numpy\n",
            "    Found existing installation: numpy 1.19.5\n",
            "    Uninstalling numpy-1.19.5:\n",
            "      Successfully uninstalled numpy-1.19.5\n",
            "  Attempting uninstall: llvmlite\n",
            "    Found existing installation: llvmlite 0.34.0\n",
            "    Uninstalling llvmlite-0.34.0:\n",
            "      Successfully uninstalled llvmlite-0.34.0\n",
            "  Attempting uninstall: h5py\n",
            "    Found existing installation: h5py 3.1.0\n",
            "    Uninstalling h5py-3.1.0:\n",
            "      Successfully uninstalled h5py-3.1.0\n",
            "  Attempting uninstall: tensorflow-estimator\n",
            "    Found existing installation: tensorflow-estimator 2.7.0\n",
            "    Uninstalling tensorflow-estimator-2.7.0:\n",
            "      Successfully uninstalled tensorflow-estimator-2.7.0\n",
            "  Attempting uninstall: tensorboard\n",
            "    Found existing installation: tensorboard 2.7.0\n",
            "    Uninstalling tensorboard-2.7.0:\n",
            "      Successfully uninstalled tensorboard-2.7.0\n",
            "  Attempting uninstall: numba\n",
            "    Found existing installation: numba 0.51.2\n",
            "    Uninstalling numba-0.51.2:\n",
            "      Successfully uninstalled numba-0.51.2\n",
            "  Attempting uninstall: gast\n",
            "    Found existing installation: gast 0.4.0\n",
            "    Uninstalling gast-0.4.0:\n",
            "      Successfully uninstalled gast-0.4.0\n",
            "  Attempting uninstall: tensorflow\n",
            "    Found existing installation: tensorflow 2.7.0\n",
            "    Uninstalling tensorflow-2.7.0:\n",
            "      Successfully uninstalled tensorflow-2.7.0\n",
            "  Attempting uninstall: resampy\n",
            "    Found existing installation: resampy 0.2.2\n",
            "    Uninstalling resampy-0.2.2:\n",
            "      Successfully uninstalled resampy-0.2.2\n",
            "  Attempting uninstall: prettytable\n",
            "    Found existing installation: prettytable 2.4.0\n",
            "    Uninstalling prettytable-2.4.0:\n",
            "      Successfully uninstalled prettytable-2.4.0\n",
            "\u001b[31mERROR: pip's dependency resolver does not currently take into account all the packages that are installed. This behaviour is the source of the following dependency conflicts.\n",
            "tensorflow-probability 0.15.0 requires gast>=0.3.2, but you have gast 0.2.2 which is incompatible.\n",
            "librosa 0.8.1 requires resampy>=0.2.2, but you have resampy 0.2.1 which is incompatible.\n",
            "datascience 0.10.6 requires folium==0.2.1, but you have folium 0.8.3 which is incompatible.\n",
            "albumentations 0.1.12 requires imgaug<0.2.7,>=0.2.5, but you have imgaug 0.2.9 which is incompatible.\u001b[0m\n",
            "Successfully installed coremltools-3.3 gast-0.2.2 h5py-2.10.0 keras-applications-1.0.8 llvmlite-0.33.0 numba-0.50.1 numpy-1.18.5 prettytable-0.7.2 resampy-0.2.1 tensorboard-2.0.2 tensorflow-2.0.4 tensorflow-estimator-2.0.1 turicreate-6.4.1\n"
          ]
        },
        {
          "output_type": "display_data",
          "data": {
            "application/vnd.colab-display-data+json": {
              "pip_warning": {
                "packages": [
                  "numpy"
                ]
              }
            }
          },
          "metadata": {}
        }
      ]
    },
    {
      "cell_type": "code",
      "metadata": {
        "id": "iIyljoXqP1rd"
      },
      "source": [
        "train_data = turicreate.SFrame(ratings_train)\n",
        "test_data = turicreate.SFrame(ratings_test)"
      ],
      "execution_count": null,
      "outputs": []
    },
    {
      "cell_type": "code",
      "metadata": {
        "colab": {
          "base_uri": "https://localhost:8080/",
          "height": 121
        },
        "id": "sN_ag6tDQYG8",
        "outputId": "724b9178-6bd8-40e2-915f-aa81e22e7ed0"
      },
      "source": [
        "popularity_model = turicreate.popularity_recommender.create(train_data, user_id='user_id', item_id='movie_id', target='rating')"
      ],
      "execution_count": null,
      "outputs": [
        {
          "output_type": "display_data",
          "data": {
            "text/html": [
              "<pre>Warning: Ignoring columns unix_timestamp;</pre>"
            ],
            "text/plain": [
              "Warning: Ignoring columns unix_timestamp;"
            ]
          },
          "metadata": {}
        },
        {
          "output_type": "display_data",
          "data": {
            "text/html": [
              "<pre>    To use these columns in scoring predictions, use a model that allows the use of additional features.</pre>"
            ],
            "text/plain": [
              "    To use these columns in scoring predictions, use a model that allows the use of additional features."
            ]
          },
          "metadata": {}
        },
        {
          "output_type": "display_data",
          "data": {
            "text/html": [
              "<pre>Preparing data set.</pre>"
            ],
            "text/plain": [
              "Preparing data set."
            ]
          },
          "metadata": {}
        },
        {
          "output_type": "display_data",
          "data": {
            "text/html": [
              "<pre>    Data has 90570 observations with 943 users and 1680 items.</pre>"
            ],
            "text/plain": [
              "    Data has 90570 observations with 943 users and 1680 items."
            ]
          },
          "metadata": {}
        },
        {
          "output_type": "display_data",
          "data": {
            "text/html": [
              "<pre>    Data prepared in: 0.087086s</pre>"
            ],
            "text/plain": [
              "    Data prepared in: 0.087086s"
            ]
          },
          "metadata": {}
        },
        {
          "output_type": "display_data",
          "data": {
            "text/html": [
              "<pre>90570 observations to process; with 1680 unique items.</pre>"
            ],
            "text/plain": [
              "90570 observations to process; with 1680 unique items."
            ]
          },
          "metadata": {}
        }
      ]
    },
    {
      "cell_type": "code",
      "metadata": {
        "colab": {
          "base_uri": "https://localhost:8080/"
        },
        "id": "0qzxDOZ4P4o6",
        "outputId": "0af93c2f-212c-4bd5-85e9-2c0a3ff75ccb"
      },
      "source": [
        "popularity_recomm = popularity_model.recommend(users=[1,2,3,4,5],k=5)\n",
        "popularity_recomm.print_rows(num_rows=25)"
      ],
      "execution_count": null,
      "outputs": [
        {
          "output_type": "stream",
          "name": "stdout",
          "text": [
            "+---------+----------+-------+------+\n",
            "| user_id | movie_id | score | rank |\n",
            "+---------+----------+-------+------+\n",
            "|    1    |   1599   |  5.0  |  1   |\n",
            "|    1    |   1201   |  5.0  |  2   |\n",
            "|    1    |   1189   |  5.0  |  3   |\n",
            "|    1    |   1122   |  5.0  |  4   |\n",
            "|    1    |   814    |  5.0  |  5   |\n",
            "|    2    |   1599   |  5.0  |  1   |\n",
            "|    2    |   1201   |  5.0  |  2   |\n",
            "|    2    |   1189   |  5.0  |  3   |\n",
            "|    2    |   1122   |  5.0  |  4   |\n",
            "|    2    |   814    |  5.0  |  5   |\n",
            "|    3    |   1599   |  5.0  |  1   |\n",
            "|    3    |   1201   |  5.0  |  2   |\n",
            "|    3    |   1189   |  5.0  |  3   |\n",
            "|    3    |   1122   |  5.0  |  4   |\n",
            "|    3    |   814    |  5.0  |  5   |\n",
            "|    4    |   1599   |  5.0  |  1   |\n",
            "|    4    |   1201   |  5.0  |  2   |\n",
            "|    4    |   1189   |  5.0  |  3   |\n",
            "|    4    |   1122   |  5.0  |  4   |\n",
            "|    4    |   814    |  5.0  |  5   |\n",
            "|    5    |   1599   |  5.0  |  1   |\n",
            "|    5    |   1201   |  5.0  |  2   |\n",
            "|    5    |   1189   |  5.0  |  3   |\n",
            "|    5    |   1122   |  5.0  |  4   |\n",
            "|    5    |   814    |  5.0  |  5   |\n",
            "+---------+----------+-------+------+\n",
            "[25 rows x 4 columns]\n",
            "\n"
          ]
        }
      ]
    },
    {
      "cell_type": "code",
      "metadata": {
        "colab": {
          "base_uri": "https://localhost:8080/",
          "height": 954
        },
        "id": "6yJanmdZQTkD",
        "outputId": "7e11e1b7-e4af-4b1b-e2b1-1188249417d8"
      },
      "source": [
        "#Training the model\n",
        "item_sim_model = turicreate.item_similarity_recommender.create(train_data, user_id='user_id', item_id='movie_id', target='rating', similarity_type='cosine')\n",
        "\n",
        "#Making recommendations\n",
        "item_sim_recomm = item_sim_model.recommend(users=[1,2,3,4,5],k=5)\n",
        "item_sim_recomm.print_rows(num_rows=25)"
      ],
      "execution_count": null,
      "outputs": [
        {
          "output_type": "display_data",
          "data": {
            "text/html": [
              "<pre>Warning: Ignoring columns unix_timestamp;</pre>"
            ],
            "text/plain": [
              "Warning: Ignoring columns unix_timestamp;"
            ]
          },
          "metadata": {}
        },
        {
          "output_type": "display_data",
          "data": {
            "text/html": [
              "<pre>    To use these columns in scoring predictions, use a model that allows the use of additional features.</pre>"
            ],
            "text/plain": [
              "    To use these columns in scoring predictions, use a model that allows the use of additional features."
            ]
          },
          "metadata": {}
        },
        {
          "output_type": "display_data",
          "data": {
            "text/html": [
              "<pre>Preparing data set.</pre>"
            ],
            "text/plain": [
              "Preparing data set."
            ]
          },
          "metadata": {}
        },
        {
          "output_type": "display_data",
          "data": {
            "text/html": [
              "<pre>    Data has 90570 observations with 943 users and 1680 items.</pre>"
            ],
            "text/plain": [
              "    Data has 90570 observations with 943 users and 1680 items."
            ]
          },
          "metadata": {}
        },
        {
          "output_type": "display_data",
          "data": {
            "text/html": [
              "<pre>    Data prepared in: 0.084442s</pre>"
            ],
            "text/plain": [
              "    Data prepared in: 0.084442s"
            ]
          },
          "metadata": {}
        },
        {
          "output_type": "display_data",
          "data": {
            "text/html": [
              "<pre>Training model from provided data.</pre>"
            ],
            "text/plain": [
              "Training model from provided data."
            ]
          },
          "metadata": {}
        },
        {
          "output_type": "display_data",
          "data": {
            "text/html": [
              "<pre>Gathering per-item and per-user statistics.</pre>"
            ],
            "text/plain": [
              "Gathering per-item and per-user statistics."
            ]
          },
          "metadata": {}
        },
        {
          "output_type": "display_data",
          "data": {
            "text/html": [
              "<pre>+--------------------------------+------------+</pre>"
            ],
            "text/plain": [
              "+--------------------------------+------------+"
            ]
          },
          "metadata": {}
        },
        {
          "output_type": "display_data",
          "data": {
            "text/html": [
              "<pre>| Elapsed Time (Item Statistics) | % Complete |</pre>"
            ],
            "text/plain": [
              "| Elapsed Time (Item Statistics) | % Complete |"
            ]
          },
          "metadata": {}
        },
        {
          "output_type": "display_data",
          "data": {
            "text/html": [
              "<pre>+--------------------------------+------------+</pre>"
            ],
            "text/plain": [
              "+--------------------------------+------------+"
            ]
          },
          "metadata": {}
        },
        {
          "output_type": "display_data",
          "data": {
            "text/html": [
              "<pre>| 3.664ms                        | 100        |</pre>"
            ],
            "text/plain": [
              "| 3.664ms                        | 100        |"
            ]
          },
          "metadata": {}
        },
        {
          "output_type": "display_data",
          "data": {
            "text/html": [
              "<pre>+--------------------------------+------------+</pre>"
            ],
            "text/plain": [
              "+--------------------------------+------------+"
            ]
          },
          "metadata": {}
        },
        {
          "output_type": "display_data",
          "data": {
            "text/html": [
              "<pre>Setting up lookup tables.</pre>"
            ],
            "text/plain": [
              "Setting up lookup tables."
            ]
          },
          "metadata": {}
        },
        {
          "output_type": "display_data",
          "data": {
            "text/html": [
              "<pre>Processing data in one pass using dense lookup tables.</pre>"
            ],
            "text/plain": [
              "Processing data in one pass using dense lookup tables."
            ]
          },
          "metadata": {}
        },
        {
          "output_type": "display_data",
          "data": {
            "text/html": [
              "<pre>+-------------------------------------+------------------+-----------------+</pre>"
            ],
            "text/plain": [
              "+-------------------------------------+------------------+-----------------+"
            ]
          },
          "metadata": {}
        },
        {
          "output_type": "display_data",
          "data": {
            "text/html": [
              "<pre>| Elapsed Time (Constructing Lookups) | Total % Complete | Items Processed |</pre>"
            ],
            "text/plain": [
              "| Elapsed Time (Constructing Lookups) | Total % Complete | Items Processed |"
            ]
          },
          "metadata": {}
        },
        {
          "output_type": "display_data",
          "data": {
            "text/html": [
              "<pre>+-------------------------------------+------------------+-----------------+</pre>"
            ],
            "text/plain": [
              "+-------------------------------------+------------------+-----------------+"
            ]
          },
          "metadata": {}
        },
        {
          "output_type": "display_data",
          "data": {
            "text/html": [
              "<pre>| 10.296ms                            | 0.25             | 6               |</pre>"
            ],
            "text/plain": [
              "| 10.296ms                            | 0.25             | 6               |"
            ]
          },
          "metadata": {}
        },
        {
          "output_type": "display_data",
          "data": {
            "text/html": [
              "<pre>| 248.278ms                           | 100              | 1680            |</pre>"
            ],
            "text/plain": [
              "| 248.278ms                           | 100              | 1680            |"
            ]
          },
          "metadata": {}
        },
        {
          "output_type": "display_data",
          "data": {
            "text/html": [
              "<pre>+-------------------------------------+------------------+-----------------+</pre>"
            ],
            "text/plain": [
              "+-------------------------------------+------------------+-----------------+"
            ]
          },
          "metadata": {}
        },
        {
          "output_type": "display_data",
          "data": {
            "text/html": [
              "<pre>Finalizing lookup tables.</pre>"
            ],
            "text/plain": [
              "Finalizing lookup tables."
            ]
          },
          "metadata": {}
        },
        {
          "output_type": "display_data",
          "data": {
            "text/html": [
              "<pre>Generating candidate set for working with new users.</pre>"
            ],
            "text/plain": [
              "Generating candidate set for working with new users."
            ]
          },
          "metadata": {}
        },
        {
          "output_type": "display_data",
          "data": {
            "text/html": [
              "<pre>Finished training in 1.273s</pre>"
            ],
            "text/plain": [
              "Finished training in 1.273s"
            ]
          },
          "metadata": {}
        },
        {
          "output_type": "stream",
          "name": "stdout",
          "text": [
            "+---------+----------+--------------------+------+\n",
            "| user_id | movie_id |       score        | rank |\n",
            "+---------+----------+--------------------+------+\n",
            "|    1    |   423    | 0.9837323215626578 |  1   |\n",
            "|    1    |   202    | 0.9539263359917939 |  2   |\n",
            "|    1    |   655    | 0.8284266454572896 |  3   |\n",
            "|    1    |   403    | 0.7833065265462599 |  4   |\n",
            "|    1    |   385    | 0.7578652207633011 |  5   |\n",
            "|    2    |    50    | 1.1256258487701416 |  1   |\n",
            "|    2    |   181    | 1.0651773168490484 |  2   |\n",
            "|    2    |   121    |  0.94162796323116  |  3   |\n",
            "|    2    |    9     | 0.8518216059758112 |  4   |\n",
            "|    2    |   117    | 0.7926051295720614 |  5   |\n",
            "|    3    |   313    | 0.6353766620159149 |  1   |\n",
            "|    3    |   328    | 0.6032880300825293 |  2   |\n",
            "|    3    |   315    | 0.5422587123784152 |  3   |\n",
            "|    3    |   331    | 0.5355071858926252 |  4   |\n",
            "|    3    |   332    | 0.5316696112806146 |  5   |\n",
            "|    4    |    50    | 1.1311477082116264 |  1   |\n",
            "|    4    |   288    | 1.0487151145935059 |  2   |\n",
            "|    4    |   181    | 0.9505999386310577 |  3   |\n",
            "|    4    |   302    | 0.9139021464756557 |  4   |\n",
            "|    4    |   121    | 0.8993381602423531 |  5   |\n",
            "|    5    |   195    | 1.031887322844881  |  1   |\n",
            "|    5    |   202    | 0.943174810481794  |  2   |\n",
            "|    5    |    56    | 0.836646846930186  |  3   |\n",
            "|    5    |    82    | 0.7812545014150215 |  4   |\n",
            "|    5    |    96    | 0.7473458579092315 |  5   |\n",
            "+---------+----------+--------------------+------+\n",
            "[25 rows x 4 columns]\n",
            "\n"
          ]
        }
      ]
    },
    {
      "cell_type": "code",
      "metadata": {
        "id": "qzRMHyLXQeF6"
      },
      "source": [
        "class MF():\n",
        "\n",
        "    # Initializing the user-movie rating matrix, no. of latent features, alpha and beta.\n",
        "    def __init__(self, R, K, alpha, beta, iterations):\n",
        "        self.R = R\n",
        "        self.num_users, self.num_items = R.shape\n",
        "        self.K = K\n",
        "        self.alpha = alpha\n",
        "        self.beta = beta\n",
        "        self.iterations = iterations\n",
        "\n",
        "    # Initializing user-feature and movie-feature matrix\n",
        "    def train(self):\n",
        "        self.P = np.random.normal(scale=1./self.K, size=(self.num_users, self.K))\n",
        "        self.Q = np.random.normal(scale=1./self.K, size=(self.num_items, self.K))\n",
        "\n",
        "        # Initializing the bias terms\n",
        "        self.b_u = np.zeros(self.num_users)\n",
        "        self.b_i = np.zeros(self.num_items)\n",
        "        self.b = np.mean(self.R[np.where(self.R != 0)])\n",
        "\n",
        "        # List of training samples\n",
        "        self.samples = [\n",
        "        (i, j, self.R[i, j])\n",
        "        for i in range(self.num_users)\n",
        "          for j in range(self.num_items)\n",
        "            if self.R[i, j] > 0\n",
        "        ]\n",
        "\n",
        "        # Stochastic gradient descent for given number of iterations\n",
        "        training_process = []\n",
        "        for i in range(self.iterations):\n",
        "          np.random.shuffle(self.samples)\n",
        "          self.sgd()\n",
        "          mse = self.mse()\n",
        "          training_process.append((i, mse))\n",
        "          if (i+1) % 20 == 0:\n",
        "              print(\"Iteration: %d ; error = %.4f\" % (i+1, mse))\n",
        "\n",
        "        return training_process\n",
        "\n",
        "    # Computing total mean squared error\n",
        "    def mse(self):\n",
        "        xs, ys = self.R.nonzero()\n",
        "        predicted = self.full_matrix()\n",
        "        error = 0\n",
        "        for x, y in zip(xs, ys):\n",
        "            error += pow(self.R[x, y] - predicted[x, y], 2)\n",
        "        return np.sqrt(error)\n",
        "\n",
        "    # Stochastic gradient descent to get optimized P and Q matrix\n",
        "    def sgd(self):\n",
        "        for i, j, r in self.samples:\n",
        "            prediction = self.get_rating(i, j)\n",
        "            e = (r - prediction)\n",
        "\n",
        "            self.b_u[i] += self.alpha * (e - self.beta * self.b_u[i])\n",
        "            self.b_i[j] += self.alpha * (e - self.beta * self.b_i[j])\n",
        "\n",
        "            self.P[i, :] += self.alpha * (e * self.Q[j, :] - self.beta * self.P[i,:])\n",
        "            self.Q[j, :] += self.alpha * (e * self.P[i, :] - self.beta * self.Q[j,:])\n",
        "\n",
        "    # Ratings for user i and moive j\n",
        "    def get_rating(self, i, j):\n",
        "        prediction = self.b + self.b_u[i] + self.b_i[j] + self.P[i, :].dot(self.Q[j, :].T)\n",
        "        return prediction\n",
        "\n",
        "    # Full user-movie rating matrix\n",
        "    def full_matrix(self):\n",
        "        return mf.b + mf.b_u[:,np.newaxis] + mf.b_i[np.newaxis:,] + mf.P.dot(mf.Q.T)"
      ],
      "execution_count": null,
      "outputs": []
    },
    {
      "cell_type": "code",
      "metadata": {
        "id": "bYyoTKOnQoQW"
      },
      "source": [
        "R= np.array(ratings.pivot(index = 'user_id', columns ='movie_id', values = 'rating').fillna(0))"
      ],
      "execution_count": null,
      "outputs": []
    },
    {
      "cell_type": "code",
      "metadata": {
        "colab": {
          "base_uri": "https://localhost:8080/"
        },
        "id": "1IgTaY98Q5n7",
        "outputId": "326e3542-97f5-4b88-ec0e-750b05fe6821"
      },
      "source": [
        "mf = MF(R, K=20, alpha=0.001, beta=0.01, iterations=100)\n",
        "training_process = mf.train()\n",
        "print()\n",
        "print(\"P x Q:\")\n",
        "print(mf.full_matrix())\n",
        "print()"
      ],
      "execution_count": null,
      "outputs": [
        {
          "output_type": "stream",
          "name": "stdout",
          "text": [
            "Iteration: 20 ; error = 296.0980\n",
            "Iteration: 40 ; error = 290.9928\n",
            "Iteration: 60 ; error = 287.4710\n",
            "Iteration: 80 ; error = 281.7528\n",
            "Iteration: 100 ; error = 272.1707\n",
            "\n",
            "P x Q:\n",
            "[[3.9694892  3.32208473 3.15511828 ... 3.33209291 3.40596801 3.41084641]\n",
            " [3.96851287 3.33064271 3.0845689  ... 3.35980202 3.49664029 3.43937762]\n",
            " [3.34786681 2.65781615 2.59579554 ... 2.78292434 2.88353724 2.90478242]\n",
            " ...\n",
            " [4.22746697 3.62659608 3.39312493 ... 3.64202291 3.76755491 3.73944731]\n",
            " [4.35804171 3.74076418 3.51848112 ... 3.76178828 3.91991245 3.87262604]\n",
            " [3.9127816  3.23257695 3.05332509 ... 3.18667451 3.36131421 3.32901497]]\n",
            "\n"
          ]
        }
      ]
    },
    {
      "cell_type": "markdown",
      "source": [
        "Building Item Based Collaborative Filtering Techniques"
      ],
      "metadata": {
        "id": "DMjeR4dcBndd"
      }
    },
    {
      "cell_type": "code",
      "source": [
        "import os\n",
        "import pandas as pd\n",
        "# configure file path\n",
        "\n",
        "# read data\n",
        "i_cols = ['movie id', 'movietitle']\n",
        "df_movies =  items[i_cols]\n",
        "\n",
        "r_cols = ['user_id', 'movie_id', 'rating']\n",
        "df_ratings = ratings[r_cols]"
      ],
      "metadata": {
        "colab": {
          "base_uri": "https://localhost:8080/",
          "height": 380
        },
        "id": "af1NUp44b1dH",
        "outputId": "9b91aca1-1d49-4fb0-c4dd-b45d17cbc89f"
      },
      "execution_count": null,
      "outputs": [
        {
          "output_type": "error",
          "ename": "KeyError",
          "evalue": "ignored",
          "traceback": [
            "\u001b[0;31m---------------------------------------------------------------------------\u001b[0m",
            "\u001b[0;31mKeyError\u001b[0m                                  Traceback (most recent call last)",
            "\u001b[0;32m<ipython-input-53-f30c6a02b60b>\u001b[0m in \u001b[0;36m<module>\u001b[0;34m()\u001b[0m\n\u001b[1;32m      5\u001b[0m \u001b[0;31m# read data\u001b[0m\u001b[0;34m\u001b[0m\u001b[0;34m\u001b[0m\u001b[0;34m\u001b[0m\u001b[0m\n\u001b[1;32m      6\u001b[0m \u001b[0mi_cols\u001b[0m \u001b[0;34m=\u001b[0m \u001b[0;34m[\u001b[0m\u001b[0;34m'movie id'\u001b[0m\u001b[0;34m,\u001b[0m \u001b[0;34m'movie_title'\u001b[0m\u001b[0;34m]\u001b[0m\u001b[0;34m\u001b[0m\u001b[0;34m\u001b[0m\u001b[0m\n\u001b[0;32m----> 7\u001b[0;31m \u001b[0mdf_movies\u001b[0m \u001b[0;34m=\u001b[0m  \u001b[0mitems\u001b[0m\u001b[0;34m[\u001b[0m\u001b[0mi_cols\u001b[0m\u001b[0;34m]\u001b[0m\u001b[0;34m\u001b[0m\u001b[0;34m\u001b[0m\u001b[0m\n\u001b[0m\u001b[1;32m      8\u001b[0m \u001b[0;34m\u001b[0m\u001b[0m\n\u001b[1;32m      9\u001b[0m \u001b[0mr_cols\u001b[0m \u001b[0;34m=\u001b[0m \u001b[0;34m[\u001b[0m\u001b[0;34m'user_id'\u001b[0m\u001b[0;34m,\u001b[0m \u001b[0;34m'movie_id'\u001b[0m\u001b[0;34m,\u001b[0m \u001b[0;34m'rating'\u001b[0m\u001b[0;34m]\u001b[0m\u001b[0;34m\u001b[0m\u001b[0;34m\u001b[0m\u001b[0m\n",
            "\u001b[0;32m/usr/local/lib/python3.7/dist-packages/pandas/core/frame.py\u001b[0m in \u001b[0;36m__getitem__\u001b[0;34m(self, key)\u001b[0m\n\u001b[1;32m   2910\u001b[0m             \u001b[0;32mif\u001b[0m \u001b[0mis_iterator\u001b[0m\u001b[0;34m(\u001b[0m\u001b[0mkey\u001b[0m\u001b[0;34m)\u001b[0m\u001b[0;34m:\u001b[0m\u001b[0;34m\u001b[0m\u001b[0;34m\u001b[0m\u001b[0m\n\u001b[1;32m   2911\u001b[0m                 \u001b[0mkey\u001b[0m \u001b[0;34m=\u001b[0m \u001b[0mlist\u001b[0m\u001b[0;34m(\u001b[0m\u001b[0mkey\u001b[0m\u001b[0;34m)\u001b[0m\u001b[0;34m\u001b[0m\u001b[0;34m\u001b[0m\u001b[0m\n\u001b[0;32m-> 2912\u001b[0;31m             \u001b[0mindexer\u001b[0m \u001b[0;34m=\u001b[0m \u001b[0mself\u001b[0m\u001b[0;34m.\u001b[0m\u001b[0mloc\u001b[0m\u001b[0;34m.\u001b[0m\u001b[0m_get_listlike_indexer\u001b[0m\u001b[0;34m(\u001b[0m\u001b[0mkey\u001b[0m\u001b[0;34m,\u001b[0m \u001b[0maxis\u001b[0m\u001b[0;34m=\u001b[0m\u001b[0;36m1\u001b[0m\u001b[0;34m,\u001b[0m \u001b[0mraise_missing\u001b[0m\u001b[0;34m=\u001b[0m\u001b[0;32mTrue\u001b[0m\u001b[0;34m)\u001b[0m\u001b[0;34m[\u001b[0m\u001b[0;36m1\u001b[0m\u001b[0;34m]\u001b[0m\u001b[0;34m\u001b[0m\u001b[0;34m\u001b[0m\u001b[0m\n\u001b[0m\u001b[1;32m   2913\u001b[0m \u001b[0;34m\u001b[0m\u001b[0m\n\u001b[1;32m   2914\u001b[0m         \u001b[0;31m# take() does not accept boolean indexers\u001b[0m\u001b[0;34m\u001b[0m\u001b[0;34m\u001b[0m\u001b[0;34m\u001b[0m\u001b[0m\n",
            "\u001b[0;32m/usr/local/lib/python3.7/dist-packages/pandas/core/indexing.py\u001b[0m in \u001b[0;36m_get_listlike_indexer\u001b[0;34m(self, key, axis, raise_missing)\u001b[0m\n\u001b[1;32m   1252\u001b[0m             \u001b[0mkeyarr\u001b[0m\u001b[0;34m,\u001b[0m \u001b[0mindexer\u001b[0m\u001b[0;34m,\u001b[0m \u001b[0mnew_indexer\u001b[0m \u001b[0;34m=\u001b[0m \u001b[0max\u001b[0m\u001b[0;34m.\u001b[0m\u001b[0m_reindex_non_unique\u001b[0m\u001b[0;34m(\u001b[0m\u001b[0mkeyarr\u001b[0m\u001b[0;34m)\u001b[0m\u001b[0;34m\u001b[0m\u001b[0;34m\u001b[0m\u001b[0m\n\u001b[1;32m   1253\u001b[0m \u001b[0;34m\u001b[0m\u001b[0m\n\u001b[0;32m-> 1254\u001b[0;31m         \u001b[0mself\u001b[0m\u001b[0;34m.\u001b[0m\u001b[0m_validate_read_indexer\u001b[0m\u001b[0;34m(\u001b[0m\u001b[0mkeyarr\u001b[0m\u001b[0;34m,\u001b[0m \u001b[0mindexer\u001b[0m\u001b[0;34m,\u001b[0m \u001b[0maxis\u001b[0m\u001b[0;34m,\u001b[0m \u001b[0mraise_missing\u001b[0m\u001b[0;34m=\u001b[0m\u001b[0mraise_missing\u001b[0m\u001b[0;34m)\u001b[0m\u001b[0;34m\u001b[0m\u001b[0;34m\u001b[0m\u001b[0m\n\u001b[0m\u001b[1;32m   1255\u001b[0m         \u001b[0;32mreturn\u001b[0m \u001b[0mkeyarr\u001b[0m\u001b[0;34m,\u001b[0m \u001b[0mindexer\u001b[0m\u001b[0;34m\u001b[0m\u001b[0;34m\u001b[0m\u001b[0m\n\u001b[1;32m   1256\u001b[0m \u001b[0;34m\u001b[0m\u001b[0m\n",
            "\u001b[0;32m/usr/local/lib/python3.7/dist-packages/pandas/core/indexing.py\u001b[0m in \u001b[0;36m_validate_read_indexer\u001b[0;34m(self, key, indexer, axis, raise_missing)\u001b[0m\n\u001b[1;32m   1302\u001b[0m             \u001b[0;32mif\u001b[0m \u001b[0mraise_missing\u001b[0m\u001b[0;34m:\u001b[0m\u001b[0;34m\u001b[0m\u001b[0;34m\u001b[0m\u001b[0m\n\u001b[1;32m   1303\u001b[0m                 \u001b[0mnot_found\u001b[0m \u001b[0;34m=\u001b[0m \u001b[0mlist\u001b[0m\u001b[0;34m(\u001b[0m\u001b[0mset\u001b[0m\u001b[0;34m(\u001b[0m\u001b[0mkey\u001b[0m\u001b[0;34m)\u001b[0m \u001b[0;34m-\u001b[0m \u001b[0mset\u001b[0m\u001b[0;34m(\u001b[0m\u001b[0max\u001b[0m\u001b[0;34m)\u001b[0m\u001b[0;34m)\u001b[0m\u001b[0;34m\u001b[0m\u001b[0;34m\u001b[0m\u001b[0m\n\u001b[0;32m-> 1304\u001b[0;31m                 \u001b[0;32mraise\u001b[0m \u001b[0mKeyError\u001b[0m\u001b[0;34m(\u001b[0m\u001b[0;34mf\"{not_found} not in index\"\u001b[0m\u001b[0;34m)\u001b[0m\u001b[0;34m\u001b[0m\u001b[0;34m\u001b[0m\u001b[0m\n\u001b[0m\u001b[1;32m   1305\u001b[0m \u001b[0;34m\u001b[0m\u001b[0m\n\u001b[1;32m   1306\u001b[0m             \u001b[0;31m# we skip the warning on Categorical\u001b[0m\u001b[0;34m\u001b[0m\u001b[0;34m\u001b[0m\u001b[0;34m\u001b[0m\u001b[0m\n",
            "\u001b[0;31mKeyError\u001b[0m: \"['movie_title'] not in index\""
          ]
        }
      ]
    },
    {
      "cell_type": "code",
      "source": [
        "df_movies.head()"
      ],
      "metadata": {
        "colab": {
          "base_uri": "https://localhost:8080/",
          "height": 206
        },
        "id": "OosESp85cU4U",
        "outputId": "1c995805-f35d-402f-d0fd-fcb7a153981d"
      },
      "execution_count": null,
      "outputs": [
        {
          "output_type": "execute_result",
          "data": {
            "text/html": [
              "\n",
              "  <div id=\"df-89cede59-ea1f-4de6-b546-79ee6702e6de\">\n",
              "    <div class=\"colab-df-container\">\n",
              "      <div>\n",
              "<style scoped>\n",
              "    .dataframe tbody tr th:only-of-type {\n",
              "        vertical-align: middle;\n",
              "    }\n",
              "\n",
              "    .dataframe tbody tr th {\n",
              "        vertical-align: top;\n",
              "    }\n",
              "\n",
              "    .dataframe thead th {\n",
              "        text-align: right;\n",
              "    }\n",
              "</style>\n",
              "<table border=\"1\" class=\"dataframe\">\n",
              "  <thead>\n",
              "    <tr style=\"text-align: right;\">\n",
              "      <th></th>\n",
              "      <th>movie id</th>\n",
              "      <th>movie title</th>\n",
              "    </tr>\n",
              "  </thead>\n",
              "  <tbody>\n",
              "    <tr>\n",
              "      <th>0</th>\n",
              "      <td>1</td>\n",
              "      <td>Toy Story (1995)</td>\n",
              "    </tr>\n",
              "    <tr>\n",
              "      <th>1</th>\n",
              "      <td>2</td>\n",
              "      <td>GoldenEye (1995)</td>\n",
              "    </tr>\n",
              "    <tr>\n",
              "      <th>2</th>\n",
              "      <td>3</td>\n",
              "      <td>Four Rooms (1995)</td>\n",
              "    </tr>\n",
              "    <tr>\n",
              "      <th>3</th>\n",
              "      <td>4</td>\n",
              "      <td>Get Shorty (1995)</td>\n",
              "    </tr>\n",
              "    <tr>\n",
              "      <th>4</th>\n",
              "      <td>5</td>\n",
              "      <td>Copycat (1995)</td>\n",
              "    </tr>\n",
              "  </tbody>\n",
              "</table>\n",
              "</div>\n",
              "      <button class=\"colab-df-convert\" onclick=\"convertToInteractive('df-89cede59-ea1f-4de6-b546-79ee6702e6de')\"\n",
              "              title=\"Convert this dataframe to an interactive table.\"\n",
              "              style=\"display:none;\">\n",
              "        \n",
              "  <svg xmlns=\"http://www.w3.org/2000/svg\" height=\"24px\"viewBox=\"0 0 24 24\"\n",
              "       width=\"24px\">\n",
              "    <path d=\"M0 0h24v24H0V0z\" fill=\"none\"/>\n",
              "    <path d=\"M18.56 5.44l.94 2.06.94-2.06 2.06-.94-2.06-.94-.94-2.06-.94 2.06-2.06.94zm-11 1L8.5 8.5l.94-2.06 2.06-.94-2.06-.94L8.5 2.5l-.94 2.06-2.06.94zm10 10l.94 2.06.94-2.06 2.06-.94-2.06-.94-.94-2.06-.94 2.06-2.06.94z\"/><path d=\"M17.41 7.96l-1.37-1.37c-.4-.4-.92-.59-1.43-.59-.52 0-1.04.2-1.43.59L10.3 9.45l-7.72 7.72c-.78.78-.78 2.05 0 2.83L4 21.41c.39.39.9.59 1.41.59.51 0 1.02-.2 1.41-.59l7.78-7.78 2.81-2.81c.8-.78.8-2.07 0-2.86zM5.41 20L4 18.59l7.72-7.72 1.47 1.35L5.41 20z\"/>\n",
              "  </svg>\n",
              "      </button>\n",
              "      \n",
              "  <style>\n",
              "    .colab-df-container {\n",
              "      display:flex;\n",
              "      flex-wrap:wrap;\n",
              "      gap: 12px;\n",
              "    }\n",
              "\n",
              "    .colab-df-convert {\n",
              "      background-color: #E8F0FE;\n",
              "      border: none;\n",
              "      border-radius: 50%;\n",
              "      cursor: pointer;\n",
              "      display: none;\n",
              "      fill: #1967D2;\n",
              "      height: 32px;\n",
              "      padding: 0 0 0 0;\n",
              "      width: 32px;\n",
              "    }\n",
              "\n",
              "    .colab-df-convert:hover {\n",
              "      background-color: #E2EBFA;\n",
              "      box-shadow: 0px 1px 2px rgba(60, 64, 67, 0.3), 0px 1px 3px 1px rgba(60, 64, 67, 0.15);\n",
              "      fill: #174EA6;\n",
              "    }\n",
              "\n",
              "    [theme=dark] .colab-df-convert {\n",
              "      background-color: #3B4455;\n",
              "      fill: #D2E3FC;\n",
              "    }\n",
              "\n",
              "    [theme=dark] .colab-df-convert:hover {\n",
              "      background-color: #434B5C;\n",
              "      box-shadow: 0px 1px 3px 1px rgba(0, 0, 0, 0.15);\n",
              "      filter: drop-shadow(0px 1px 2px rgba(0, 0, 0, 0.3));\n",
              "      fill: #FFFFFF;\n",
              "    }\n",
              "  </style>\n",
              "\n",
              "      <script>\n",
              "        const buttonEl =\n",
              "          document.querySelector('#df-89cede59-ea1f-4de6-b546-79ee6702e6de button.colab-df-convert');\n",
              "        buttonEl.style.display =\n",
              "          google.colab.kernel.accessAllowed ? 'block' : 'none';\n",
              "\n",
              "        async function convertToInteractive(key) {\n",
              "          const element = document.querySelector('#df-89cede59-ea1f-4de6-b546-79ee6702e6de');\n",
              "          const dataTable =\n",
              "            await google.colab.kernel.invokeFunction('convertToInteractive',\n",
              "                                                     [key], {});\n",
              "          if (!dataTable) return;\n",
              "\n",
              "          const docLinkHtml = 'Like what you see? Visit the ' +\n",
              "            '<a target=\"_blank\" href=https://colab.research.google.com/notebooks/data_table.ipynb>data table notebook</a>'\n",
              "            + ' to learn more about interactive tables.';\n",
              "          element.innerHTML = '';\n",
              "          dataTable['output_type'] = 'display_data';\n",
              "          await google.colab.output.renderOutput(dataTable, element);\n",
              "          const docLink = document.createElement('div');\n",
              "          docLink.innerHTML = docLinkHtml;\n",
              "          element.appendChild(docLink);\n",
              "        }\n",
              "      </script>\n",
              "    </div>\n",
              "  </div>\n",
              "  "
            ],
            "text/plain": [
              "   movie id        movie title\n",
              "0         1   Toy Story (1995)\n",
              "1         2   GoldenEye (1995)\n",
              "2         3  Four Rooms (1995)\n",
              "3         4  Get Shorty (1995)\n",
              "4         5     Copycat (1995)"
            ]
          },
          "metadata": {},
          "execution_count": 21
        }
      ]
    },
    {
      "cell_type": "code",
      "source": [
        "df_movies.info()"
      ],
      "metadata": {
        "colab": {
          "base_uri": "https://localhost:8080/"
        },
        "id": "EsMv8lx9I-km",
        "outputId": "5f5a3af6-8181-4809-e060-7ec94700fa48"
      },
      "execution_count": null,
      "outputs": [
        {
          "output_type": "stream",
          "name": "stdout",
          "text": [
            "<class 'pandas.core.frame.DataFrame'>\n",
            "RangeIndex: 1682 entries, 0 to 1681\n",
            "Data columns (total 2 columns):\n",
            " #   Column       Non-Null Count  Dtype \n",
            "---  ------       --------------  ----- \n",
            " 0   movie id     1682 non-null   int64 \n",
            " 1   movie title  1682 non-null   object\n",
            "dtypes: int64(1), object(1)\n",
            "memory usage: 26.4+ KB\n"
          ]
        }
      ]
    },
    {
      "cell_type": "code",
      "source": [
        "df_ratings.info()"
      ],
      "metadata": {
        "colab": {
          "base_uri": "https://localhost:8080/"
        },
        "id": "OvJEAwFyJOgF",
        "outputId": "996a93a7-dea6-4622-ed2b-3c08b47e15e6"
      },
      "execution_count": null,
      "outputs": [
        {
          "output_type": "stream",
          "name": "stdout",
          "text": [
            "<class 'pandas.core.frame.DataFrame'>\n",
            "RangeIndex: 100000 entries, 0 to 99999\n",
            "Data columns (total 3 columns):\n",
            " #   Column    Non-Null Count   Dtype\n",
            "---  ------    --------------   -----\n",
            " 0   user_id   100000 non-null  int64\n",
            " 1   movie_id  100000 non-null  int64\n",
            " 2   rating    100000 non-null  int64\n",
            "dtypes: int64(3)\n",
            "memory usage: 2.3 MB\n"
          ]
        }
      ]
    },
    {
      "cell_type": "code",
      "source": [
        "df_ratings.head()"
      ],
      "metadata": {
        "colab": {
          "base_uri": "https://localhost:8080/",
          "height": 206
        },
        "id": "BQFSZGfvJUD-",
        "outputId": "c18b9116-c1fd-47e3-a1f3-e712ce751bf2"
      },
      "execution_count": null,
      "outputs": [
        {
          "output_type": "execute_result",
          "data": {
            "text/html": [
              "\n",
              "  <div id=\"df-cd783ae5-afcc-49c6-b350-baa80b392186\">\n",
              "    <div class=\"colab-df-container\">\n",
              "      <div>\n",
              "<style scoped>\n",
              "    .dataframe tbody tr th:only-of-type {\n",
              "        vertical-align: middle;\n",
              "    }\n",
              "\n",
              "    .dataframe tbody tr th {\n",
              "        vertical-align: top;\n",
              "    }\n",
              "\n",
              "    .dataframe thead th {\n",
              "        text-align: right;\n",
              "    }\n",
              "</style>\n",
              "<table border=\"1\" class=\"dataframe\">\n",
              "  <thead>\n",
              "    <tr style=\"text-align: right;\">\n",
              "      <th></th>\n",
              "      <th>user_id</th>\n",
              "      <th>movie_id</th>\n",
              "      <th>rating</th>\n",
              "    </tr>\n",
              "  </thead>\n",
              "  <tbody>\n",
              "    <tr>\n",
              "      <th>0</th>\n",
              "      <td>196</td>\n",
              "      <td>242</td>\n",
              "      <td>3</td>\n",
              "    </tr>\n",
              "    <tr>\n",
              "      <th>1</th>\n",
              "      <td>186</td>\n",
              "      <td>302</td>\n",
              "      <td>3</td>\n",
              "    </tr>\n",
              "    <tr>\n",
              "      <th>2</th>\n",
              "      <td>22</td>\n",
              "      <td>377</td>\n",
              "      <td>1</td>\n",
              "    </tr>\n",
              "    <tr>\n",
              "      <th>3</th>\n",
              "      <td>244</td>\n",
              "      <td>51</td>\n",
              "      <td>2</td>\n",
              "    </tr>\n",
              "    <tr>\n",
              "      <th>4</th>\n",
              "      <td>166</td>\n",
              "      <td>346</td>\n",
              "      <td>1</td>\n",
              "    </tr>\n",
              "  </tbody>\n",
              "</table>\n",
              "</div>\n",
              "      <button class=\"colab-df-convert\" onclick=\"convertToInteractive('df-cd783ae5-afcc-49c6-b350-baa80b392186')\"\n",
              "              title=\"Convert this dataframe to an interactive table.\"\n",
              "              style=\"display:none;\">\n",
              "        \n",
              "  <svg xmlns=\"http://www.w3.org/2000/svg\" height=\"24px\"viewBox=\"0 0 24 24\"\n",
              "       width=\"24px\">\n",
              "    <path d=\"M0 0h24v24H0V0z\" fill=\"none\"/>\n",
              "    <path d=\"M18.56 5.44l.94 2.06.94-2.06 2.06-.94-2.06-.94-.94-2.06-.94 2.06-2.06.94zm-11 1L8.5 8.5l.94-2.06 2.06-.94-2.06-.94L8.5 2.5l-.94 2.06-2.06.94zm10 10l.94 2.06.94-2.06 2.06-.94-2.06-.94-.94-2.06-.94 2.06-2.06.94z\"/><path d=\"M17.41 7.96l-1.37-1.37c-.4-.4-.92-.59-1.43-.59-.52 0-1.04.2-1.43.59L10.3 9.45l-7.72 7.72c-.78.78-.78 2.05 0 2.83L4 21.41c.39.39.9.59 1.41.59.51 0 1.02-.2 1.41-.59l7.78-7.78 2.81-2.81c.8-.78.8-2.07 0-2.86zM5.41 20L4 18.59l7.72-7.72 1.47 1.35L5.41 20z\"/>\n",
              "  </svg>\n",
              "      </button>\n",
              "      \n",
              "  <style>\n",
              "    .colab-df-container {\n",
              "      display:flex;\n",
              "      flex-wrap:wrap;\n",
              "      gap: 12px;\n",
              "    }\n",
              "\n",
              "    .colab-df-convert {\n",
              "      background-color: #E8F0FE;\n",
              "      border: none;\n",
              "      border-radius: 50%;\n",
              "      cursor: pointer;\n",
              "      display: none;\n",
              "      fill: #1967D2;\n",
              "      height: 32px;\n",
              "      padding: 0 0 0 0;\n",
              "      width: 32px;\n",
              "    }\n",
              "\n",
              "    .colab-df-convert:hover {\n",
              "      background-color: #E2EBFA;\n",
              "      box-shadow: 0px 1px 2px rgba(60, 64, 67, 0.3), 0px 1px 3px 1px rgba(60, 64, 67, 0.15);\n",
              "      fill: #174EA6;\n",
              "    }\n",
              "\n",
              "    [theme=dark] .colab-df-convert {\n",
              "      background-color: #3B4455;\n",
              "      fill: #D2E3FC;\n",
              "    }\n",
              "\n",
              "    [theme=dark] .colab-df-convert:hover {\n",
              "      background-color: #434B5C;\n",
              "      box-shadow: 0px 1px 3px 1px rgba(0, 0, 0, 0.15);\n",
              "      filter: drop-shadow(0px 1px 2px rgba(0, 0, 0, 0.3));\n",
              "      fill: #FFFFFF;\n",
              "    }\n",
              "  </style>\n",
              "\n",
              "      <script>\n",
              "        const buttonEl =\n",
              "          document.querySelector('#df-cd783ae5-afcc-49c6-b350-baa80b392186 button.colab-df-convert');\n",
              "        buttonEl.style.display =\n",
              "          google.colab.kernel.accessAllowed ? 'block' : 'none';\n",
              "\n",
              "        async function convertToInteractive(key) {\n",
              "          const element = document.querySelector('#df-cd783ae5-afcc-49c6-b350-baa80b392186');\n",
              "          const dataTable =\n",
              "            await google.colab.kernel.invokeFunction('convertToInteractive',\n",
              "                                                     [key], {});\n",
              "          if (!dataTable) return;\n",
              "\n",
              "          const docLinkHtml = 'Like what you see? Visit the ' +\n",
              "            '<a target=\"_blank\" href=https://colab.research.google.com/notebooks/data_table.ipynb>data table notebook</a>'\n",
              "            + ' to learn more about interactive tables.';\n",
              "          element.innerHTML = '';\n",
              "          dataTable['output_type'] = 'display_data';\n",
              "          await google.colab.output.renderOutput(dataTable, element);\n",
              "          const docLink = document.createElement('div');\n",
              "          docLink.innerHTML = docLinkHtml;\n",
              "          element.appendChild(docLink);\n",
              "        }\n",
              "      </script>\n",
              "    </div>\n",
              "  </div>\n",
              "  "
            ],
            "text/plain": [
              "   user_id  movie_id  rating\n",
              "0      196       242       3\n",
              "1      186       302       3\n",
              "2       22       377       1\n",
              "3      244        51       2\n",
              "4      166       346       1"
            ]
          },
          "metadata": {},
          "execution_count": 30
        }
      ]
    },
    {
      "cell_type": "code",
      "source": [
        "num_users = len(df_ratings.user_id.unique())\n",
        "num_items = len(df_ratings.movie_id.unique())\n",
        "print('There are {} unique users and {} unique movies in this data set'.format(num_users, num_items))"
      ],
      "metadata": {
        "colab": {
          "base_uri": "https://localhost:8080/"
        },
        "id": "y7UGbmCjJYt9",
        "outputId": "96b64877-fb5c-4242-b0cb-839a16768104"
      },
      "execution_count": null,
      "outputs": [
        {
          "output_type": "stream",
          "name": "stdout",
          "text": [
            "There are 943 unique users and 1682 unique movies in this data set\n"
          ]
        }
      ]
    },
    {
      "cell_type": "code",
      "source": [
        "# get count\n",
        "df_ratings_cnt_tmp = pd.DataFrame(df_ratings.groupby('rating').size(), columns=['count'])\n",
        "df_ratings_cnt_tmp"
      ],
      "metadata": {
        "colab": {
          "base_uri": "https://localhost:8080/",
          "height": 238
        },
        "id": "Hdc5TfxVJguw",
        "outputId": "5fa951dc-3403-4f4b-ad8b-35a1cec33f78"
      },
      "execution_count": null,
      "outputs": [
        {
          "output_type": "execute_result",
          "data": {
            "text/html": [
              "\n",
              "  <div id=\"df-d3453423-0c9e-424b-89ee-5c17a3a1c399\">\n",
              "    <div class=\"colab-df-container\">\n",
              "      <div>\n",
              "<style scoped>\n",
              "    .dataframe tbody tr th:only-of-type {\n",
              "        vertical-align: middle;\n",
              "    }\n",
              "\n",
              "    .dataframe tbody tr th {\n",
              "        vertical-align: top;\n",
              "    }\n",
              "\n",
              "    .dataframe thead th {\n",
              "        text-align: right;\n",
              "    }\n",
              "</style>\n",
              "<table border=\"1\" class=\"dataframe\">\n",
              "  <thead>\n",
              "    <tr style=\"text-align: right;\">\n",
              "      <th></th>\n",
              "      <th>count</th>\n",
              "    </tr>\n",
              "    <tr>\n",
              "      <th>rating</th>\n",
              "      <th></th>\n",
              "    </tr>\n",
              "  </thead>\n",
              "  <tbody>\n",
              "    <tr>\n",
              "      <th>1</th>\n",
              "      <td>6110</td>\n",
              "    </tr>\n",
              "    <tr>\n",
              "      <th>2</th>\n",
              "      <td>11370</td>\n",
              "    </tr>\n",
              "    <tr>\n",
              "      <th>3</th>\n",
              "      <td>27145</td>\n",
              "    </tr>\n",
              "    <tr>\n",
              "      <th>4</th>\n",
              "      <td>34174</td>\n",
              "    </tr>\n",
              "    <tr>\n",
              "      <th>5</th>\n",
              "      <td>21201</td>\n",
              "    </tr>\n",
              "  </tbody>\n",
              "</table>\n",
              "</div>\n",
              "      <button class=\"colab-df-convert\" onclick=\"convertToInteractive('df-d3453423-0c9e-424b-89ee-5c17a3a1c399')\"\n",
              "              title=\"Convert this dataframe to an interactive table.\"\n",
              "              style=\"display:none;\">\n",
              "        \n",
              "  <svg xmlns=\"http://www.w3.org/2000/svg\" height=\"24px\"viewBox=\"0 0 24 24\"\n",
              "       width=\"24px\">\n",
              "    <path d=\"M0 0h24v24H0V0z\" fill=\"none\"/>\n",
              "    <path d=\"M18.56 5.44l.94 2.06.94-2.06 2.06-.94-2.06-.94-.94-2.06-.94 2.06-2.06.94zm-11 1L8.5 8.5l.94-2.06 2.06-.94-2.06-.94L8.5 2.5l-.94 2.06-2.06.94zm10 10l.94 2.06.94-2.06 2.06-.94-2.06-.94-.94-2.06-.94 2.06-2.06.94z\"/><path d=\"M17.41 7.96l-1.37-1.37c-.4-.4-.92-.59-1.43-.59-.52 0-1.04.2-1.43.59L10.3 9.45l-7.72 7.72c-.78.78-.78 2.05 0 2.83L4 21.41c.39.39.9.59 1.41.59.51 0 1.02-.2 1.41-.59l7.78-7.78 2.81-2.81c.8-.78.8-2.07 0-2.86zM5.41 20L4 18.59l7.72-7.72 1.47 1.35L5.41 20z\"/>\n",
              "  </svg>\n",
              "      </button>\n",
              "      \n",
              "  <style>\n",
              "    .colab-df-container {\n",
              "      display:flex;\n",
              "      flex-wrap:wrap;\n",
              "      gap: 12px;\n",
              "    }\n",
              "\n",
              "    .colab-df-convert {\n",
              "      background-color: #E8F0FE;\n",
              "      border: none;\n",
              "      border-radius: 50%;\n",
              "      cursor: pointer;\n",
              "      display: none;\n",
              "      fill: #1967D2;\n",
              "      height: 32px;\n",
              "      padding: 0 0 0 0;\n",
              "      width: 32px;\n",
              "    }\n",
              "\n",
              "    .colab-df-convert:hover {\n",
              "      background-color: #E2EBFA;\n",
              "      box-shadow: 0px 1px 2px rgba(60, 64, 67, 0.3), 0px 1px 3px 1px rgba(60, 64, 67, 0.15);\n",
              "      fill: #174EA6;\n",
              "    }\n",
              "\n",
              "    [theme=dark] .colab-df-convert {\n",
              "      background-color: #3B4455;\n",
              "      fill: #D2E3FC;\n",
              "    }\n",
              "\n",
              "    [theme=dark] .colab-df-convert:hover {\n",
              "      background-color: #434B5C;\n",
              "      box-shadow: 0px 1px 3px 1px rgba(0, 0, 0, 0.15);\n",
              "      filter: drop-shadow(0px 1px 2px rgba(0, 0, 0, 0.3));\n",
              "      fill: #FFFFFF;\n",
              "    }\n",
              "  </style>\n",
              "\n",
              "      <script>\n",
              "        const buttonEl =\n",
              "          document.querySelector('#df-d3453423-0c9e-424b-89ee-5c17a3a1c399 button.colab-df-convert');\n",
              "        buttonEl.style.display =\n",
              "          google.colab.kernel.accessAllowed ? 'block' : 'none';\n",
              "\n",
              "        async function convertToInteractive(key) {\n",
              "          const element = document.querySelector('#df-d3453423-0c9e-424b-89ee-5c17a3a1c399');\n",
              "          const dataTable =\n",
              "            await google.colab.kernel.invokeFunction('convertToInteractive',\n",
              "                                                     [key], {});\n",
              "          if (!dataTable) return;\n",
              "\n",
              "          const docLinkHtml = 'Like what you see? Visit the ' +\n",
              "            '<a target=\"_blank\" href=https://colab.research.google.com/notebooks/data_table.ipynb>data table notebook</a>'\n",
              "            + ' to learn more about interactive tables.';\n",
              "          element.innerHTML = '';\n",
              "          dataTable['output_type'] = 'display_data';\n",
              "          await google.colab.output.renderOutput(dataTable, element);\n",
              "          const docLink = document.createElement('div');\n",
              "          docLink.innerHTML = docLinkHtml;\n",
              "          element.appendChild(docLink);\n",
              "        }\n",
              "      </script>\n",
              "    </div>\n",
              "  </div>\n",
              "  "
            ],
            "text/plain": [
              "        count\n",
              "rating       \n",
              "1        6110\n",
              "2       11370\n",
              "3       27145\n",
              "4       34174\n",
              "5       21201"
            ]
          },
          "metadata": {},
          "execution_count": 33
        }
      ]
    },
    {
      "cell_type": "code",
      "source": [
        "# there are a lot more counts in rating of zero\n",
        "total_cnt = num_users * num_items\n",
        "rating_zero_cnt = total_cnt - df_ratings.shape[0]\n",
        "# append counts of zero rating to df_ratings_cnt\n",
        "df_ratings_cnt = df_ratings_cnt_tmp.append(\n",
        "    pd.DataFrame({'count': rating_zero_cnt}, index=[0.0]),\n",
        "    verify_integrity=True,\n",
        ").sort_index()\n",
        "df_ratings_cnt"
      ],
      "metadata": {
        "colab": {
          "base_uri": "https://localhost:8080/",
          "height": 238
        },
        "id": "I3kitY3KJka4",
        "outputId": "17e15161-998a-4d16-8624-153a4c390697"
      },
      "execution_count": null,
      "outputs": [
        {
          "output_type": "execute_result",
          "data": {
            "text/html": [
              "\n",
              "  <div id=\"df-1b94a8b9-c759-4742-9c68-45d7ec6e46ab\">\n",
              "    <div class=\"colab-df-container\">\n",
              "      <div>\n",
              "<style scoped>\n",
              "    .dataframe tbody tr th:only-of-type {\n",
              "        vertical-align: middle;\n",
              "    }\n",
              "\n",
              "    .dataframe tbody tr th {\n",
              "        vertical-align: top;\n",
              "    }\n",
              "\n",
              "    .dataframe thead th {\n",
              "        text-align: right;\n",
              "    }\n",
              "</style>\n",
              "<table border=\"1\" class=\"dataframe\">\n",
              "  <thead>\n",
              "    <tr style=\"text-align: right;\">\n",
              "      <th></th>\n",
              "      <th>count</th>\n",
              "    </tr>\n",
              "  </thead>\n",
              "  <tbody>\n",
              "    <tr>\n",
              "      <th>0.0</th>\n",
              "      <td>1486126</td>\n",
              "    </tr>\n",
              "    <tr>\n",
              "      <th>1.0</th>\n",
              "      <td>6110</td>\n",
              "    </tr>\n",
              "    <tr>\n",
              "      <th>2.0</th>\n",
              "      <td>11370</td>\n",
              "    </tr>\n",
              "    <tr>\n",
              "      <th>3.0</th>\n",
              "      <td>27145</td>\n",
              "    </tr>\n",
              "    <tr>\n",
              "      <th>4.0</th>\n",
              "      <td>34174</td>\n",
              "    </tr>\n",
              "    <tr>\n",
              "      <th>5.0</th>\n",
              "      <td>21201</td>\n",
              "    </tr>\n",
              "  </tbody>\n",
              "</table>\n",
              "</div>\n",
              "      <button class=\"colab-df-convert\" onclick=\"convertToInteractive('df-1b94a8b9-c759-4742-9c68-45d7ec6e46ab')\"\n",
              "              title=\"Convert this dataframe to an interactive table.\"\n",
              "              style=\"display:none;\">\n",
              "        \n",
              "  <svg xmlns=\"http://www.w3.org/2000/svg\" height=\"24px\"viewBox=\"0 0 24 24\"\n",
              "       width=\"24px\">\n",
              "    <path d=\"M0 0h24v24H0V0z\" fill=\"none\"/>\n",
              "    <path d=\"M18.56 5.44l.94 2.06.94-2.06 2.06-.94-2.06-.94-.94-2.06-.94 2.06-2.06.94zm-11 1L8.5 8.5l.94-2.06 2.06-.94-2.06-.94L8.5 2.5l-.94 2.06-2.06.94zm10 10l.94 2.06.94-2.06 2.06-.94-2.06-.94-.94-2.06-.94 2.06-2.06.94z\"/><path d=\"M17.41 7.96l-1.37-1.37c-.4-.4-.92-.59-1.43-.59-.52 0-1.04.2-1.43.59L10.3 9.45l-7.72 7.72c-.78.78-.78 2.05 0 2.83L4 21.41c.39.39.9.59 1.41.59.51 0 1.02-.2 1.41-.59l7.78-7.78 2.81-2.81c.8-.78.8-2.07 0-2.86zM5.41 20L4 18.59l7.72-7.72 1.47 1.35L5.41 20z\"/>\n",
              "  </svg>\n",
              "      </button>\n",
              "      \n",
              "  <style>\n",
              "    .colab-df-container {\n",
              "      display:flex;\n",
              "      flex-wrap:wrap;\n",
              "      gap: 12px;\n",
              "    }\n",
              "\n",
              "    .colab-df-convert {\n",
              "      background-color: #E8F0FE;\n",
              "      border: none;\n",
              "      border-radius: 50%;\n",
              "      cursor: pointer;\n",
              "      display: none;\n",
              "      fill: #1967D2;\n",
              "      height: 32px;\n",
              "      padding: 0 0 0 0;\n",
              "      width: 32px;\n",
              "    }\n",
              "\n",
              "    .colab-df-convert:hover {\n",
              "      background-color: #E2EBFA;\n",
              "      box-shadow: 0px 1px 2px rgba(60, 64, 67, 0.3), 0px 1px 3px 1px rgba(60, 64, 67, 0.15);\n",
              "      fill: #174EA6;\n",
              "    }\n",
              "\n",
              "    [theme=dark] .colab-df-convert {\n",
              "      background-color: #3B4455;\n",
              "      fill: #D2E3FC;\n",
              "    }\n",
              "\n",
              "    [theme=dark] .colab-df-convert:hover {\n",
              "      background-color: #434B5C;\n",
              "      box-shadow: 0px 1px 3px 1px rgba(0, 0, 0, 0.15);\n",
              "      filter: drop-shadow(0px 1px 2px rgba(0, 0, 0, 0.3));\n",
              "      fill: #FFFFFF;\n",
              "    }\n",
              "  </style>\n",
              "\n",
              "      <script>\n",
              "        const buttonEl =\n",
              "          document.querySelector('#df-1b94a8b9-c759-4742-9c68-45d7ec6e46ab button.colab-df-convert');\n",
              "        buttonEl.style.display =\n",
              "          google.colab.kernel.accessAllowed ? 'block' : 'none';\n",
              "\n",
              "        async function convertToInteractive(key) {\n",
              "          const element = document.querySelector('#df-1b94a8b9-c759-4742-9c68-45d7ec6e46ab');\n",
              "          const dataTable =\n",
              "            await google.colab.kernel.invokeFunction('convertToInteractive',\n",
              "                                                     [key], {});\n",
              "          if (!dataTable) return;\n",
              "\n",
              "          const docLinkHtml = 'Like what you see? Visit the ' +\n",
              "            '<a target=\"_blank\" href=https://colab.research.google.com/notebooks/data_table.ipynb>data table notebook</a>'\n",
              "            + ' to learn more about interactive tables.';\n",
              "          element.innerHTML = '';\n",
              "          dataTable['output_type'] = 'display_data';\n",
              "          await google.colab.output.renderOutput(dataTable, element);\n",
              "          const docLink = document.createElement('div');\n",
              "          docLink.innerHTML = docLinkHtml;\n",
              "          element.appendChild(docLink);\n",
              "        }\n",
              "      </script>\n",
              "    </div>\n",
              "  </div>\n",
              "  "
            ],
            "text/plain": [
              "       count\n",
              "0.0  1486126\n",
              "1.0     6110\n",
              "2.0    11370\n",
              "3.0    27145\n",
              "4.0    34174\n",
              "5.0    21201"
            ]
          },
          "metadata": {},
          "execution_count": 34
        }
      ]
    },
    {
      "cell_type": "code",
      "source": [
        "# add log count\n",
        "df_ratings_cnt['log_count'] = np.log(df_ratings_cnt['count'])\n",
        "df_ratings_cnt"
      ],
      "metadata": {
        "colab": {
          "base_uri": "https://localhost:8080/",
          "height": 238
        },
        "id": "1cK5jSjqJn34",
        "outputId": "98369c23-9955-43ba-a84d-41b76c783cef"
      },
      "execution_count": null,
      "outputs": [
        {
          "output_type": "execute_result",
          "data": {
            "text/html": [
              "\n",
              "  <div id=\"df-7a54123c-9b91-47f0-921f-726ebf71876e\">\n",
              "    <div class=\"colab-df-container\">\n",
              "      <div>\n",
              "<style scoped>\n",
              "    .dataframe tbody tr th:only-of-type {\n",
              "        vertical-align: middle;\n",
              "    }\n",
              "\n",
              "    .dataframe tbody tr th {\n",
              "        vertical-align: top;\n",
              "    }\n",
              "\n",
              "    .dataframe thead th {\n",
              "        text-align: right;\n",
              "    }\n",
              "</style>\n",
              "<table border=\"1\" class=\"dataframe\">\n",
              "  <thead>\n",
              "    <tr style=\"text-align: right;\">\n",
              "      <th></th>\n",
              "      <th>count</th>\n",
              "      <th>log_count</th>\n",
              "    </tr>\n",
              "  </thead>\n",
              "  <tbody>\n",
              "    <tr>\n",
              "      <th>0.0</th>\n",
              "      <td>1486126</td>\n",
              "      <td>14.211683</td>\n",
              "    </tr>\n",
              "    <tr>\n",
              "      <th>1.0</th>\n",
              "      <td>6110</td>\n",
              "      <td>8.717682</td>\n",
              "    </tr>\n",
              "    <tr>\n",
              "      <th>2.0</th>\n",
              "      <td>11370</td>\n",
              "      <td>9.338734</td>\n",
              "    </tr>\n",
              "    <tr>\n",
              "      <th>3.0</th>\n",
              "      <td>27145</td>\n",
              "      <td>10.208948</td>\n",
              "    </tr>\n",
              "    <tr>\n",
              "      <th>4.0</th>\n",
              "      <td>34174</td>\n",
              "      <td>10.439220</td>\n",
              "    </tr>\n",
              "    <tr>\n",
              "      <th>5.0</th>\n",
              "      <td>21201</td>\n",
              "      <td>9.961804</td>\n",
              "    </tr>\n",
              "  </tbody>\n",
              "</table>\n",
              "</div>\n",
              "      <button class=\"colab-df-convert\" onclick=\"convertToInteractive('df-7a54123c-9b91-47f0-921f-726ebf71876e')\"\n",
              "              title=\"Convert this dataframe to an interactive table.\"\n",
              "              style=\"display:none;\">\n",
              "        \n",
              "  <svg xmlns=\"http://www.w3.org/2000/svg\" height=\"24px\"viewBox=\"0 0 24 24\"\n",
              "       width=\"24px\">\n",
              "    <path d=\"M0 0h24v24H0V0z\" fill=\"none\"/>\n",
              "    <path d=\"M18.56 5.44l.94 2.06.94-2.06 2.06-.94-2.06-.94-.94-2.06-.94 2.06-2.06.94zm-11 1L8.5 8.5l.94-2.06 2.06-.94-2.06-.94L8.5 2.5l-.94 2.06-2.06.94zm10 10l.94 2.06.94-2.06 2.06-.94-2.06-.94-.94-2.06-.94 2.06-2.06.94z\"/><path d=\"M17.41 7.96l-1.37-1.37c-.4-.4-.92-.59-1.43-.59-.52 0-1.04.2-1.43.59L10.3 9.45l-7.72 7.72c-.78.78-.78 2.05 0 2.83L4 21.41c.39.39.9.59 1.41.59.51 0 1.02-.2 1.41-.59l7.78-7.78 2.81-2.81c.8-.78.8-2.07 0-2.86zM5.41 20L4 18.59l7.72-7.72 1.47 1.35L5.41 20z\"/>\n",
              "  </svg>\n",
              "      </button>\n",
              "      \n",
              "  <style>\n",
              "    .colab-df-container {\n",
              "      display:flex;\n",
              "      flex-wrap:wrap;\n",
              "      gap: 12px;\n",
              "    }\n",
              "\n",
              "    .colab-df-convert {\n",
              "      background-color: #E8F0FE;\n",
              "      border: none;\n",
              "      border-radius: 50%;\n",
              "      cursor: pointer;\n",
              "      display: none;\n",
              "      fill: #1967D2;\n",
              "      height: 32px;\n",
              "      padding: 0 0 0 0;\n",
              "      width: 32px;\n",
              "    }\n",
              "\n",
              "    .colab-df-convert:hover {\n",
              "      background-color: #E2EBFA;\n",
              "      box-shadow: 0px 1px 2px rgba(60, 64, 67, 0.3), 0px 1px 3px 1px rgba(60, 64, 67, 0.15);\n",
              "      fill: #174EA6;\n",
              "    }\n",
              "\n",
              "    [theme=dark] .colab-df-convert {\n",
              "      background-color: #3B4455;\n",
              "      fill: #D2E3FC;\n",
              "    }\n",
              "\n",
              "    [theme=dark] .colab-df-convert:hover {\n",
              "      background-color: #434B5C;\n",
              "      box-shadow: 0px 1px 3px 1px rgba(0, 0, 0, 0.15);\n",
              "      filter: drop-shadow(0px 1px 2px rgba(0, 0, 0, 0.3));\n",
              "      fill: #FFFFFF;\n",
              "    }\n",
              "  </style>\n",
              "\n",
              "      <script>\n",
              "        const buttonEl =\n",
              "          document.querySelector('#df-7a54123c-9b91-47f0-921f-726ebf71876e button.colab-df-convert');\n",
              "        buttonEl.style.display =\n",
              "          google.colab.kernel.accessAllowed ? 'block' : 'none';\n",
              "\n",
              "        async function convertToInteractive(key) {\n",
              "          const element = document.querySelector('#df-7a54123c-9b91-47f0-921f-726ebf71876e');\n",
              "          const dataTable =\n",
              "            await google.colab.kernel.invokeFunction('convertToInteractive',\n",
              "                                                     [key], {});\n",
              "          if (!dataTable) return;\n",
              "\n",
              "          const docLinkHtml = 'Like what you see? Visit the ' +\n",
              "            '<a target=\"_blank\" href=https://colab.research.google.com/notebooks/data_table.ipynb>data table notebook</a>'\n",
              "            + ' to learn more about interactive tables.';\n",
              "          element.innerHTML = '';\n",
              "          dataTable['output_type'] = 'display_data';\n",
              "          await google.colab.output.renderOutput(dataTable, element);\n",
              "          const docLink = document.createElement('div');\n",
              "          docLink.innerHTML = docLinkHtml;\n",
              "          element.appendChild(docLink);\n",
              "        }\n",
              "      </script>\n",
              "    </div>\n",
              "  </div>\n",
              "  "
            ],
            "text/plain": [
              "       count  log_count\n",
              "0.0  1486126  14.211683\n",
              "1.0     6110   8.717682\n",
              "2.0    11370   9.338734\n",
              "3.0    27145  10.208948\n",
              "4.0    34174  10.439220\n",
              "5.0    21201   9.961804"
            ]
          },
          "metadata": {},
          "execution_count": 35
        }
      ]
    },
    {
      "cell_type": "code",
      "source": [
        "ax = df_ratings_cnt[['count']].reset_index().rename(columns={'index': 'rating score'}).plot(\n",
        "    x='rating score',\n",
        "    y='count',\n",
        "    kind='bar',\n",
        "    figsize=(12, 8),\n",
        "    title='Count for Each Rating Score (in Log Scale)',\n",
        "    logy=True,\n",
        "    fontsize=12,\n",
        ")\n",
        "ax.set_xlabel(\"movie rating score\")\n",
        "ax.set_ylabel(\"number of ratings\")"
      ],
      "metadata": {
        "colab": {
          "base_uri": "https://localhost:8080/",
          "height": 540
        },
        "id": "fW4DnL2jJsSu",
        "outputId": "5b6a7e76-1eca-4176-d6c5-65aca8aa0670"
      },
      "execution_count": null,
      "outputs": [
        {
          "output_type": "execute_result",
          "data": {
            "text/plain": [
              "Text(0, 0.5, 'number of ratings')"
            ]
          },
          "metadata": {},
          "execution_count": 36
        },
        {
          "output_type": "display_data",
          "data": {
            "image/png": "[encoded data removed]",
            "text/plain": [
              "<Figure size 864x576 with 1 Axes>"
            ]
          },
          "metadata": {
            "needs_background": "light"
          }
        }
      ]
    },
    {
      "cell_type": "code",
      "source": [
        "# get rating frequency\n",
        "df_movies_cnt = pd.DataFrame(df_ratings.groupby('movie_id').size(), columns=['count'])\n",
        "df_movies_cnt.head()"
      ],
      "metadata": {
        "colab": {
          "base_uri": "https://localhost:8080/",
          "height": 238
        },
        "id": "hCHCdG5EJsCN",
        "outputId": "77cfe818-1caa-41c7-a219-544672e3d1c6"
      },
      "execution_count": null,
      "outputs": [
        {
          "output_type": "execute_result",
          "data": {
            "text/html": [
              "\n",
              "  <div id=\"df-94e7243a-4f55-4c81-bf5d-2d1c75d1f80c\">\n",
              "    <div class=\"colab-df-container\">\n",
              "      <div>\n",
              "<style scoped>\n",
              "    .dataframe tbody tr th:only-of-type {\n",
              "        vertical-align: middle;\n",
              "    }\n",
              "\n",
              "    .dataframe tbody tr th {\n",
              "        vertical-align: top;\n",
              "    }\n",
              "\n",
              "    .dataframe thead th {\n",
              "        text-align: right;\n",
              "    }\n",
              "</style>\n",
              "<table border=\"1\" class=\"dataframe\">\n",
              "  <thead>\n",
              "    <tr style=\"text-align: right;\">\n",
              "      <th></th>\n",
              "      <th>count</th>\n",
              "    </tr>\n",
              "    <tr>\n",
              "      <th>movie_id</th>\n",
              "      <th></th>\n",
              "    </tr>\n",
              "  </thead>\n",
              "  <tbody>\n",
              "    <tr>\n",
              "      <th>1</th>\n",
              "      <td>452</td>\n",
              "    </tr>\n",
              "    <tr>\n",
              "      <th>2</th>\n",
              "      <td>131</td>\n",
              "    </tr>\n",
              "    <tr>\n",
              "      <th>3</th>\n",
              "      <td>90</td>\n",
              "    </tr>\n",
              "    <tr>\n",
              "      <th>4</th>\n",
              "      <td>209</td>\n",
              "    </tr>\n",
              "    <tr>\n",
              "      <th>5</th>\n",
              "      <td>86</td>\n",
              "    </tr>\n",
              "  </tbody>\n",
              "</table>\n",
              "</div>\n",
              "      <button class=\"colab-df-convert\" onclick=\"convertToInteractive('df-94e7243a-4f55-4c81-bf5d-2d1c75d1f80c')\"\n",
              "              title=\"Convert this dataframe to an interactive table.\"\n",
              "              style=\"display:none;\">\n",
              "        \n",
              "  <svg xmlns=\"http://www.w3.org/2000/svg\" height=\"24px\"viewBox=\"0 0 24 24\"\n",
              "       width=\"24px\">\n",
              "    <path d=\"M0 0h24v24H0V0z\" fill=\"none\"/>\n",
              "    <path d=\"M18.56 5.44l.94 2.06.94-2.06 2.06-.94-2.06-.94-.94-2.06-.94 2.06-2.06.94zm-11 1L8.5 8.5l.94-2.06 2.06-.94-2.06-.94L8.5 2.5l-.94 2.06-2.06.94zm10 10l.94 2.06.94-2.06 2.06-.94-2.06-.94-.94-2.06-.94 2.06-2.06.94z\"/><path d=\"M17.41 7.96l-1.37-1.37c-.4-.4-.92-.59-1.43-.59-.52 0-1.04.2-1.43.59L10.3 9.45l-7.72 7.72c-.78.78-.78 2.05 0 2.83L4 21.41c.39.39.9.59 1.41.59.51 0 1.02-.2 1.41-.59l7.78-7.78 2.81-2.81c.8-.78.8-2.07 0-2.86zM5.41 20L4 18.59l7.72-7.72 1.47 1.35L5.41 20z\"/>\n",
              "  </svg>\n",
              "      </button>\n",
              "      \n",
              "  <style>\n",
              "    .colab-df-container {\n",
              "      display:flex;\n",
              "      flex-wrap:wrap;\n",
              "      gap: 12px;\n",
              "    }\n",
              "\n",
              "    .colab-df-convert {\n",
              "      background-color: #E8F0FE;\n",
              "      border: none;\n",
              "      border-radius: 50%;\n",
              "      cursor: pointer;\n",
              "      display: none;\n",
              "      fill: #1967D2;\n",
              "      height: 32px;\n",
              "      padding: 0 0 0 0;\n",
              "      width: 32px;\n",
              "    }\n",
              "\n",
              "    .colab-df-convert:hover {\n",
              "      background-color: #E2EBFA;\n",
              "      box-shadow: 0px 1px 2px rgba(60, 64, 67, 0.3), 0px 1px 3px 1px rgba(60, 64, 67, 0.15);\n",
              "      fill: #174EA6;\n",
              "    }\n",
              "\n",
              "    [theme=dark] .colab-df-convert {\n",
              "      background-color: #3B4455;\n",
              "      fill: #D2E3FC;\n",
              "    }\n",
              "\n",
              "    [theme=dark] .colab-df-convert:hover {\n",
              "      background-color: #434B5C;\n",
              "      box-shadow: 0px 1px 3px 1px rgba(0, 0, 0, 0.15);\n",
              "      filter: drop-shadow(0px 1px 2px rgba(0, 0, 0, 0.3));\n",
              "      fill: #FFFFFF;\n",
              "    }\n",
              "  </style>\n",
              "\n",
              "      <script>\n",
              "        const buttonEl =\n",
              "          document.querySelector('#df-94e7243a-4f55-4c81-bf5d-2d1c75d1f80c button.colab-df-convert');\n",
              "        buttonEl.style.display =\n",
              "          google.colab.kernel.accessAllowed ? 'block' : 'none';\n",
              "\n",
              "        async function convertToInteractive(key) {\n",
              "          const element = document.querySelector('#df-94e7243a-4f55-4c81-bf5d-2d1c75d1f80c');\n",
              "          const dataTable =\n",
              "            await google.colab.kernel.invokeFunction('convertToInteractive',\n",
              "                                                     [key], {});\n",
              "          if (!dataTable) return;\n",
              "\n",
              "          const docLinkHtml = 'Like what you see? Visit the ' +\n",
              "            '<a target=\"_blank\" href=https://colab.research.google.com/notebooks/data_table.ipynb>data table notebook</a>'\n",
              "            + ' to learn more about interactive tables.';\n",
              "          element.innerHTML = '';\n",
              "          dataTable['output_type'] = 'display_data';\n",
              "          await google.colab.output.renderOutput(dataTable, element);\n",
              "          const docLink = document.createElement('div');\n",
              "          docLink.innerHTML = docLinkHtml;\n",
              "          element.appendChild(docLink);\n",
              "        }\n",
              "      </script>\n",
              "    </div>\n",
              "  </div>\n",
              "  "
            ],
            "text/plain": [
              "          count\n",
              "movie_id       \n",
              "1           452\n",
              "2           131\n",
              "3            90\n",
              "4           209\n",
              "5            86"
            ]
          },
          "metadata": {},
          "execution_count": 38
        }
      ]
    },
    {
      "cell_type": "code",
      "source": [
        "# plot rating frequency of all movies\n",
        "ax = df_movies_cnt \\\n",
        "    .sort_values('count', ascending=False) \\\n",
        "    .reset_index(drop=True) \\\n",
        "    .plot(\n",
        "        figsize=(12, 8),\n",
        "        title='Rating Frequency of All Movies',\n",
        "        fontsize=12\n",
        "    )\n",
        "ax.set_xlabel(\"movie Id\")\n",
        "ax.set_ylabel(\"number of ratings\")"
      ],
      "metadata": {
        "colab": {
          "base_uri": "https://localhost:8080/",
          "height": 533
        },
        "id": "BQBdxZK4JocM",
        "outputId": "7e71dc8a-bedf-40bc-aa97-dbe7e6552cf3"
      },
      "execution_count": null,
      "outputs": [
        {
          "output_type": "execute_result",
          "data": {
            "text/plain": [
              "Text(0, 0.5, 'number of ratings')"
            ]
          },
          "metadata": {},
          "execution_count": 39
        },
        {
          "output_type": "display_data",
          "data": {
            "image/png": "[encoded data removed]",
            "text/plain": [
              "<Figure size 864x576 with 1 Axes>"
            ]
          },
          "metadata": {
            "needs_background": "light"
          }
        }
      ]
    },
    {
      "cell_type": "code",
      "source": [
        "# plot rating frequency of all movies in log scale\n",
        "ax = df_movies_cnt \\\n",
        "    .sort_values('count', ascending=False) \\\n",
        "    .reset_index(drop=True) \\\n",
        "    .plot(\n",
        "        figsize=(12, 8),\n",
        "        title='Rating Frequency of All Movies (in Log Scale)',\n",
        "        fontsize=12,\n",
        "        logy=True\n",
        "    )\n",
        "ax.set_xlabel(\"movie Id\")\n",
        "ax.set_ylabel(\"number of ratings (log scale)\")"
      ],
      "metadata": {
        "colab": {
          "base_uri": "https://localhost:8080/",
          "height": 533
        },
        "id": "rBkRxLxbJ-Kd",
        "outputId": "9587957a-3035-4cd9-a6e5-21ef8dcd3266"
      },
      "execution_count": null,
      "outputs": [
        {
          "output_type": "execute_result",
          "data": {
            "text/plain": [
              "Text(0, 0.5, 'number of ratings (log scale)')"
            ]
          },
          "metadata": {},
          "execution_count": 40
        },
        {
          "output_type": "display_data",
          "data": {
            "image/png": "[encoded data removed]",
            "text/plain": [
              "<Figure size 864x576 with 1 Axes>"
            ]
          },
          "metadata": {
            "needs_background": "light"
          }
        }
      ]
    },
    {
      "cell_type": "code",
      "source": [
        "df_movies_cnt['count'].quantile(np.arange(1, 0.6, -0.05))"
      ],
      "metadata": {
        "colab": {
          "base_uri": "https://localhost:8080/"
        },
        "id": "injz94JZKHzT",
        "outputId": "b02e3ed2-04c6-4b2e-c3e7-5cc44dd0983e"
      },
      "execution_count": null,
      "outputs": [
        {
          "output_type": "execute_result",
          "data": {
            "text/plain": [
              "1.00    583.00\n",
              "0.95    229.85\n",
              "0.90    169.00\n",
              "0.85    127.85\n",
              "0.80    100.00\n",
              "0.75     80.00\n",
              "0.70     65.00\n",
              "0.65     51.65\n",
              "Name: count, dtype: float64"
            ]
          },
          "metadata": {},
          "execution_count": 41
        }
      ]
    },
    {
      "cell_type": "code",
      "source": [
        "# filter data\n",
        "popularity_thres = 50\n",
        "popular_movies = list(set(df_movies_cnt.query('count >= @popularity_thres').index))\n",
        "df_ratings_drop_movies = df_ratings[df_ratings.movie_id.isin(popular_movies)]\n",
        "print('shape of original ratings data: ', df_ratings.shape)\n",
        "print('shape of ratings data after dropping unpopular movies: ', df_ratings_drop_movies.shape)"
      ],
      "metadata": {
        "colab": {
          "base_uri": "https://localhost:8080/"
        },
        "id": "TBoyju_kKHsC",
        "outputId": "8aaf0bb5-d211-48cb-cbc0-a33f86ab0820"
      },
      "execution_count": null,
      "outputs": [
        {
          "output_type": "stream",
          "name": "stdout",
          "text": [
            "shape of original ratings data:  (100000, 3)\n",
            "shape of ratings data after dropping unpopular movies:  (83715, 3)\n"
          ]
        }
      ]
    },
    {
      "cell_type": "code",
      "source": [
        "# get number of ratings given by every user\n",
        "df_users_cnt = pd.DataFrame(df_ratings_drop_movies.groupby('user_id').size(), columns=['count'])\n",
        "df_users_cnt.head()"
      ],
      "metadata": {
        "colab": {
          "base_uri": "https://localhost:8080/",
          "height": 238
        },
        "id": "tD4mC0liKHlt",
        "outputId": "0bf7750b-7d8d-41c6-8cbe-ecd012195947"
      },
      "execution_count": null,
      "outputs": [
        {
          "output_type": "execute_result",
          "data": {
            "text/html": [
              "\n",
              "  <div id=\"df-f78058b9-68af-439a-908d-8e5e66e9c0c6\">\n",
              "    <div class=\"colab-df-container\">\n",
              "      <div>\n",
              "<style scoped>\n",
              "    .dataframe tbody tr th:only-of-type {\n",
              "        vertical-align: middle;\n",
              "    }\n",
              "\n",
              "    .dataframe tbody tr th {\n",
              "        vertical-align: top;\n",
              "    }\n",
              "\n",
              "    .dataframe thead th {\n",
              "        text-align: right;\n",
              "    }\n",
              "</style>\n",
              "<table border=\"1\" class=\"dataframe\">\n",
              "  <thead>\n",
              "    <tr style=\"text-align: right;\">\n",
              "      <th></th>\n",
              "      <th>count</th>\n",
              "    </tr>\n",
              "    <tr>\n",
              "      <th>user_id</th>\n",
              "      <th></th>\n",
              "    </tr>\n",
              "  </thead>\n",
              "  <tbody>\n",
              "    <tr>\n",
              "      <th>1</th>\n",
              "      <td>233</td>\n",
              "    </tr>\n",
              "    <tr>\n",
              "      <th>2</th>\n",
              "      <td>56</td>\n",
              "    </tr>\n",
              "    <tr>\n",
              "      <th>3</th>\n",
              "      <td>39</td>\n",
              "    </tr>\n",
              "    <tr>\n",
              "      <th>4</th>\n",
              "      <td>19</td>\n",
              "    </tr>\n",
              "    <tr>\n",
              "      <th>5</th>\n",
              "      <td>134</td>\n",
              "    </tr>\n",
              "  </tbody>\n",
              "</table>\n",
              "</div>\n",
              "      <button class=\"colab-df-convert\" onclick=\"convertToInteractive('df-f78058b9-68af-439a-908d-8e5e66e9c0c6')\"\n",
              "              title=\"Convert this dataframe to an interactive table.\"\n",
              "              style=\"display:none;\">\n",
              "        \n",
              "  <svg xmlns=\"http://www.w3.org/2000/svg\" height=\"24px\"viewBox=\"0 0 24 24\"\n",
              "       width=\"24px\">\n",
              "    <path d=\"M0 0h24v24H0V0z\" fill=\"none\"/>\n",
              "    <path d=\"M18.56 5.44l.94 2.06.94-2.06 2.06-.94-2.06-.94-.94-2.06-.94 2.06-2.06.94zm-11 1L8.5 8.5l.94-2.06 2.06-.94-2.06-.94L8.5 2.5l-.94 2.06-2.06.94zm10 10l.94 2.06.94-2.06 2.06-.94-2.06-.94-.94-2.06-.94 2.06-2.06.94z\"/><path d=\"M17.41 7.96l-1.37-1.37c-.4-.4-.92-.59-1.43-.59-.52 0-1.04.2-1.43.59L10.3 9.45l-7.72 7.72c-.78.78-.78 2.05 0 2.83L4 21.41c.39.39.9.59 1.41.59.51 0 1.02-.2 1.41-.59l7.78-7.78 2.81-2.81c.8-.78.8-2.07 0-2.86zM5.41 20L4 18.59l7.72-7.72 1.47 1.35L5.41 20z\"/>\n",
              "  </svg>\n",
              "      </button>\n",
              "      \n",
              "  <style>\n",
              "    .colab-df-container {\n",
              "      display:flex;\n",
              "      flex-wrap:wrap;\n",
              "      gap: 12px;\n",
              "    }\n",
              "\n",
              "    .colab-df-convert {\n",
              "      background-color: #E8F0FE;\n",
              "      border: none;\n",
              "      border-radius: 50%;\n",
              "      cursor: pointer;\n",
              "      display: none;\n",
              "      fill: #1967D2;\n",
              "      height: 32px;\n",
              "      padding: 0 0 0 0;\n",
              "      width: 32px;\n",
              "    }\n",
              "\n",
              "    .colab-df-convert:hover {\n",
              "      background-color: #E2EBFA;\n",
              "      box-shadow: 0px 1px 2px rgba(60, 64, 67, 0.3), 0px 1px 3px 1px rgba(60, 64, 67, 0.15);\n",
              "      fill: #174EA6;\n",
              "    }\n",
              "\n",
              "    [theme=dark] .colab-df-convert {\n",
              "      background-color: #3B4455;\n",
              "      fill: #D2E3FC;\n",
              "    }\n",
              "\n",
              "    [theme=dark] .colab-df-convert:hover {\n",
              "      background-color: #434B5C;\n",
              "      box-shadow: 0px 1px 3px 1px rgba(0, 0, 0, 0.15);\n",
              "      filter: drop-shadow(0px 1px 2px rgba(0, 0, 0, 0.3));\n",
              "      fill: #FFFFFF;\n",
              "    }\n",
              "  </style>\n",
              "\n",
              "      <script>\n",
              "        const buttonEl =\n",
              "          document.querySelector('#df-f78058b9-68af-439a-908d-8e5e66e9c0c6 button.colab-df-convert');\n",
              "        buttonEl.style.display =\n",
              "          google.colab.kernel.accessAllowed ? 'block' : 'none';\n",
              "\n",
              "        async function convertToInteractive(key) {\n",
              "          const element = document.querySelector('#df-f78058b9-68af-439a-908d-8e5e66e9c0c6');\n",
              "          const dataTable =\n",
              "            await google.colab.kernel.invokeFunction('convertToInteractive',\n",
              "                                                     [key], {});\n",
              "          if (!dataTable) return;\n",
              "\n",
              "          const docLinkHtml = 'Like what you see? Visit the ' +\n",
              "            '<a target=\"_blank\" href=https://colab.research.google.com/notebooks/data_table.ipynb>data table notebook</a>'\n",
              "            + ' to learn more about interactive tables.';\n",
              "          element.innerHTML = '';\n",
              "          dataTable['output_type'] = 'display_data';\n",
              "          await google.colab.output.renderOutput(dataTable, element);\n",
              "          const docLink = document.createElement('div');\n",
              "          docLink.innerHTML = docLinkHtml;\n",
              "          element.appendChild(docLink);\n",
              "        }\n",
              "      </script>\n",
              "    </div>\n",
              "  </div>\n",
              "  "
            ],
            "text/plain": [
              "         count\n",
              "user_id       \n",
              "1          233\n",
              "2           56\n",
              "3           39\n",
              "4           19\n",
              "5          134"
            ]
          },
          "metadata": {},
          "execution_count": 45
        }
      ]
    },
    {
      "cell_type": "code",
      "source": [
        "# plot rating frequency of all movies\n",
        "ax = df_users_cnt \\\n",
        "    .sort_values('count', ascending=False) \\\n",
        "    .reset_index(drop=True) \\\n",
        "    .plot(\n",
        "        figsize=(12, 8),\n",
        "        title='Rating Frequency of All Users',\n",
        "        fontsize=12\n",
        "    )\n",
        "ax.set_xlabel(\"user Id\")\n",
        "ax.set_ylabel(\"number of ratings\")"
      ],
      "metadata": {
        "colab": {
          "base_uri": "https://localhost:8080/",
          "height": 533
        },
        "id": "9-YMP4X6KW8U",
        "outputId": "6ddb5bdb-2c87-4e41-b757-07ea612f5437"
      },
      "execution_count": null,
      "outputs": [
        {
          "output_type": "execute_result",
          "data": {
            "text/plain": [
              "Text(0, 0.5, 'number of ratings')"
            ]
          },
          "metadata": {},
          "execution_count": 46
        },
        {
          "output_type": "display_data",
          "data": {
            "image/png": "[encoded data removed]",
            "text/plain": [
              "<Figure size 864x576 with 1 Axes>"
            ]
          },
          "metadata": {
            "needs_background": "light"
          }
        }
      ]
    },
    {
      "cell_type": "code",
      "source": [
        "df_users_cnt['count'].quantile(np.arange(1, 0.5, -0.05))"
      ],
      "metadata": {
        "colab": {
          "base_uri": "https://localhost:8080/"
        },
        "id": "VLmip0XVKWwp",
        "outputId": "6e547467-bc66-461a-e3b7-bd313442d750"
      },
      "execution_count": null,
      "outputs": [
        {
          "output_type": "execute_result",
          "data": {
            "text/plain": [
              "1.00    422.0\n",
              "0.95    251.8\n",
              "0.90    202.8\n",
              "0.85    171.0\n",
              "0.80    147.0\n",
              "0.75    128.0\n",
              "0.70    111.0\n",
              "0.65     94.0\n",
              "0.60     79.2\n",
              "0.55     67.0\n",
              "Name: count, dtype: float64"
            ]
          },
          "metadata": {},
          "execution_count": 47
        }
      ]
    },
    {
      "cell_type": "code",
      "source": [
        "# filter data\n",
        "ratings_thres = 50\n",
        "active_users = list(set(df_users_cnt.query('count >= @ratings_thres').index))\n",
        "df_ratings_drop_users = df_ratings_drop_movies[df_ratings_drop_movies.user_id.isin(active_users)]\n",
        "print('shape of original ratings data: ', df_ratings.shape)\n",
        "print('shape of ratings data after dropping both unpopular movies and inactive users: ', df_ratings_drop_users.shape)"
      ],
      "metadata": {
        "colab": {
          "base_uri": "https://localhost:8080/"
        },
        "id": "850xjsi7KiZk",
        "outputId": "32027f4b-f1b7-482f-8665-c5d44c11c2a4"
      },
      "execution_count": null,
      "outputs": [
        {
          "output_type": "stream",
          "name": "stdout",
          "text": [
            "shape of original ratings data:  (100000, 3)\n",
            "shape of ratings data after dropping both unpopular movies and inactive users:  (71687, 3)\n"
          ]
        }
      ]
    },
    {
      "cell_type": "code",
      "source": [
        "df_movies = df_movies.rename(columns={'movie title':'movie_title'})"
      ],
      "metadata": {
        "id": "1qG9N6w8LuoB"
      },
      "execution_count": null,
      "outputs": []
    },
    {
      "cell_type": "code",
      "source": [
        "df_movies.head()"
      ],
      "metadata": {
        "colab": {
          "base_uri": "https://localhost:8080/",
          "height": 206
        },
        "id": "iFtMN4n5MDfr",
        "outputId": "8826b426-d3dd-44b8-a205-b195e3794cbf"
      },
      "execution_count": null,
      "outputs": [
        {
          "output_type": "execute_result",
          "data": {
            "text/html": [
              "\n",
              "  <div id=\"df-08bbf436-e871-4bc7-835c-98d35069dde7\">\n",
              "    <div class=\"colab-df-container\">\n",
              "      <div>\n",
              "<style scoped>\n",
              "    .dataframe tbody tr th:only-of-type {\n",
              "        vertical-align: middle;\n",
              "    }\n",
              "\n",
              "    .dataframe tbody tr th {\n",
              "        vertical-align: top;\n",
              "    }\n",
              "\n",
              "    .dataframe thead th {\n",
              "        text-align: right;\n",
              "    }\n",
              "</style>\n",
              "<table border=\"1\" class=\"dataframe\">\n",
              "  <thead>\n",
              "    <tr style=\"text-align: right;\">\n",
              "      <th></th>\n",
              "      <th>movie id</th>\n",
              "      <th>movie_title</th>\n",
              "    </tr>\n",
              "  </thead>\n",
              "  <tbody>\n",
              "    <tr>\n",
              "      <th>0</th>\n",
              "      <td>1</td>\n",
              "      <td>Toy Story (1995)</td>\n",
              "    </tr>\n",
              "    <tr>\n",
              "      <th>1</th>\n",
              "      <td>2</td>\n",
              "      <td>GoldenEye (1995)</td>\n",
              "    </tr>\n",
              "    <tr>\n",
              "      <th>2</th>\n",
              "      <td>3</td>\n",
              "      <td>Four Rooms (1995)</td>\n",
              "    </tr>\n",
              "    <tr>\n",
              "      <th>3</th>\n",
              "      <td>4</td>\n",
              "      <td>Get Shorty (1995)</td>\n",
              "    </tr>\n",
              "    <tr>\n",
              "      <th>4</th>\n",
              "      <td>5</td>\n",
              "      <td>Copycat (1995)</td>\n",
              "    </tr>\n",
              "  </tbody>\n",
              "</table>\n",
              "</div>\n",
              "      <button class=\"colab-df-convert\" onclick=\"convertToInteractive('df-08bbf436-e871-4bc7-835c-98d35069dde7')\"\n",
              "              title=\"Convert this dataframe to an interactive table.\"\n",
              "              style=\"display:none;\">\n",
              "        \n",
              "  <svg xmlns=\"http://www.w3.org/2000/svg\" height=\"24px\"viewBox=\"0 0 24 24\"\n",
              "       width=\"24px\">\n",
              "    <path d=\"M0 0h24v24H0V0z\" fill=\"none\"/>\n",
              "    <path d=\"M18.56 5.44l.94 2.06.94-2.06 2.06-.94-2.06-.94-.94-2.06-.94 2.06-2.06.94zm-11 1L8.5 8.5l.94-2.06 2.06-.94-2.06-.94L8.5 2.5l-.94 2.06-2.06.94zm10 10l.94 2.06.94-2.06 2.06-.94-2.06-.94-.94-2.06-.94 2.06-2.06.94z\"/><path d=\"M17.41 7.96l-1.37-1.37c-.4-.4-.92-.59-1.43-.59-.52 0-1.04.2-1.43.59L10.3 9.45l-7.72 7.72c-.78.78-.78 2.05 0 2.83L4 21.41c.39.39.9.59 1.41.59.51 0 1.02-.2 1.41-.59l7.78-7.78 2.81-2.81c.8-.78.8-2.07 0-2.86zM5.41 20L4 18.59l7.72-7.72 1.47 1.35L5.41 20z\"/>\n",
              "  </svg>\n",
              "      </button>\n",
              "      \n",
              "  <style>\n",
              "    .colab-df-container {\n",
              "      display:flex;\n",
              "      flex-wrap:wrap;\n",
              "      gap: 12px;\n",
              "    }\n",
              "\n",
              "    .colab-df-convert {\n",
              "      background-color: #E8F0FE;\n",
              "      border: none;\n",
              "      border-radius: 50%;\n",
              "      cursor: pointer;\n",
              "      display: none;\n",
              "      fill: #1967D2;\n",
              "      height: 32px;\n",
              "      padding: 0 0 0 0;\n",
              "      width: 32px;\n",
              "    }\n",
              "\n",
              "    .colab-df-convert:hover {\n",
              "      background-color: #E2EBFA;\n",
              "      box-shadow: 0px 1px 2px rgba(60, 64, 67, 0.3), 0px 1px 3px 1px rgba(60, 64, 67, 0.15);\n",
              "      fill: #174EA6;\n",
              "    }\n",
              "\n",
              "    [theme=dark] .colab-df-convert {\n",
              "      background-color: #3B4455;\n",
              "      fill: #D2E3FC;\n",
              "    }\n",
              "\n",
              "    [theme=dark] .colab-df-convert:hover {\n",
              "      background-color: #434B5C;\n",
              "      box-shadow: 0px 1px 3px 1px rgba(0, 0, 0, 0.15);\n",
              "      filter: drop-shadow(0px 1px 2px rgba(0, 0, 0, 0.3));\n",
              "      fill: #FFFFFF;\n",
              "    }\n",
              "  </style>\n",
              "\n",
              "      <script>\n",
              "        const buttonEl =\n",
              "          document.querySelector('#df-08bbf436-e871-4bc7-835c-98d35069dde7 button.colab-df-convert');\n",
              "        buttonEl.style.display =\n",
              "          google.colab.kernel.accessAllowed ? 'block' : 'none';\n",
              "\n",
              "        async function convertToInteractive(key) {\n",
              "          const element = document.querySelector('#df-08bbf436-e871-4bc7-835c-98d35069dde7');\n",
              "          const dataTable =\n",
              "            await google.colab.kernel.invokeFunction('convertToInteractive',\n",
              "                                                     [key], {});\n",
              "          if (!dataTable) return;\n",
              "\n",
              "          const docLinkHtml = 'Like what you see? Visit the ' +\n",
              "            '<a target=\"_blank\" href=https://colab.research.google.com/notebooks/data_table.ipynb>data table notebook</a>'\n",
              "            + ' to learn more about interactive tables.';\n",
              "          element.innerHTML = '';\n",
              "          dataTable['output_type'] = 'display_data';\n",
              "          await google.colab.output.renderOutput(dataTable, element);\n",
              "          const docLink = document.createElement('div');\n",
              "          docLink.innerHTML = docLinkHtml;\n",
              "          element.appendChild(docLink);\n",
              "        }\n",
              "      </script>\n",
              "    </div>\n",
              "  </div>\n",
              "  "
            ],
            "text/plain": [
              "   movie id        movie_title\n",
              "0         1   Toy Story (1995)\n",
              "1         2   GoldenEye (1995)\n",
              "2         3  Four Rooms (1995)\n",
              "3         4  Get Shorty (1995)\n",
              "4         5     Copycat (1995)"
            ]
          },
          "metadata": {},
          "execution_count": 59
        }
      ]
    },
    {
      "cell_type": "code",
      "source": [
        "# pivot and create movie-user matrix\n",
        "movie_user_mat = df_ratings_drop_users.pivot(index='movie_id', columns='user_id', values='rating').fillna(0)\n",
        "# create mapper from movie title to index\n",
        "#df_movies.rename(columns={'movie title':'movie_title'})\n",
        "movie_to_idx = {\n",
        "    movie: i for i, movie in\n",
        "    enumerate(list(df_movies.set_index('movie id').loc[movie_user_mat.index].movie_title))\n",
        "}\n",
        "# transform matrix to scipy sparse matrix\n",
        "movie_user_mat_sparse = csr_matrix(movie_user_mat.values)"
      ],
      "metadata": {
        "id": "9vLyUZ-zKiNJ"
      },
      "execution_count": null,
      "outputs": []
    },
    {
      "cell_type": "code",
      "source": [
        "%env JOBLIB_TEMP_FOLDER=/tmp\n",
        "# define model\n",
        "model_knn = NearestNeighbors(metric='cosine', algorithm='brute', n_neighbors=20, n_jobs=-1)\n",
        "# fit\n",
        "model_knn.fit(movie_user_mat_sparse)"
      ],
      "metadata": {
        "colab": {
          "base_uri": "https://localhost:8080/"
        },
        "id": "H6UjsMxgMPfv",
        "outputId": "9745b0fb-47be-441f-a666-cd0ae7fa322d"
      },
      "execution_count": null,
      "outputs": [
        {
          "output_type": "stream",
          "name": "stdout",
          "text": [
            "env: JOBLIB_TEMP_FOLDER=/tmp\n"
          ]
        },
        {
          "output_type": "execute_result",
          "data": {
            "text/plain": [
              "NearestNeighbors(algorithm='brute', metric='cosine', n_jobs=-1, n_neighbors=20)"
            ]
          },
          "metadata": {},
          "execution_count": 61
        }
      ]
    },
    {
      "cell_type": "code",
      "source": [
        "def fuzzy_matching(mapper, fav_movie, verbose=True):\n",
        "    \"\"\"\n",
        "    return the closest match via fuzzy ratio. If no match found, return None\n",
        "\n",
        "    Parameters\n",
        "    ----------\n",
        "    mapper: dict, map movie title name to index of the movie in data\n",
        "\n",
        "    fav_movie: str, name of user input movie\n",
        "\n",
        "    verbose: bool, print log if True\n",
        "\n",
        "    Return\n",
        "    ------\n",
        "    index of the closest match\n",
        "    \"\"\"\n",
        "    match_tuple = []\n",
        "    # get match\n",
        "    for title, idx in mapper.items():\n",
        "        ratio = fuzz.ratio(title.lower(), fav_movie.lower())\n",
        "        if ratio >= 60:\n",
        "            match_tuple.append((title, idx, ratio))\n",
        "    # sort\n",
        "    match_tuple = sorted(match_tuple, key=lambda x: x[2])[::-1]\n",
        "    if not match_tuple:\n",
        "        print('Oops! No match is found')\n",
        "        return\n",
        "    if verbose:\n",
        "        print('Found possible matches in our database: {0}\\n'.format([x[0] for x in match_tuple]))\n",
        "    return match_tuple[0][1]\n",
        "\n",
        "\n",
        "\n",
        "def make_recommendation(model_knn, data, mapper, fav_movie, n_recommendations):\n",
        "    \"\"\"\n",
        "    return top n similar movie recommendations based on user's input movie\n",
        "\n",
        "\n",
        "    Parameters\n",
        "    ----------\n",
        "    model_knn: sklearn model, knn model\n",
        "\n",
        "    data: movie-user matrix\n",
        "\n",
        "    mapper: dict, map movie title name to index of the movie in data\n",
        "\n",
        "    fav_movie: str, name of user input movie\n",
        "\n",
        "    n_recommendations: int, top n recommendations\n",
        "\n",
        "    Return\n",
        "    ------\n",
        "    list of top n similar movie recommendations\n",
        "    \"\"\"\n",
        "    # fit\n",
        "    model_knn.fit(data)\n",
        "    # get input movie index\n",
        "    print('You have input movie:', fav_movie)\n",
        "    idx = fuzzy_matching(mapper, fav_movie, verbose=True)\n",
        "    # inference\n",
        "    print('Recommendation system start to make inference')\n",
        "    print('......\\n')\n",
        "    distances, indices = model_knn.kneighbors(data[idx], n_neighbors=n_recommendations+1)\n",
        "    # get list of raw idx of recommendations\n",
        "    raw_recommends = \\\n",
        "        sorted(list(zip(indices.squeeze().tolist(), distances.squeeze().tolist())), key=lambda x: x[1])[:0:-1]\n",
        "    # get reverse mapper\n",
        "    reverse_mapper = {v: k for k, v in mapper.items()}\n",
        "    # print recommendations\n",
        "    print('Recommendations for {}:'.format(fav_movie))\n",
        "    for i, (idx, dist) in enumerate(raw_recommends):\n",
        "        print('{0}: {1}, with distance of {2}'.format(i+1, reverse_mapper[idx], dist))"
      ],
      "metadata": {
        "id": "_gGoiw4kMPdu"
      },
      "execution_count": null,
      "outputs": []
    },
    {
      "cell_type": "code",
      "source": [
        "#!pip install fuzzywuzzy\n",
        "from fuzzywuzzy import fuzz\n",
        "\n",
        "my_favorite = 'Top Gun (1986)'\n",
        "\n",
        "make_recommendation(\n",
        "    model_knn=model_knn,\n",
        "    data=movie_user_mat_sparse,\n",
        "    fav_movie=my_favorite,\n",
        "    mapper=movie_to_idx,\n",
        "    n_recommendations= 10)"
      ],
      "metadata": {
        "colab": {
          "base_uri": "https://localhost:8080/"
        },
        "id": "eVbD_B7aMPaq",
        "outputId": "bc515a3d-4345-40c9-d3fa-ec840fc767e5"
      },
      "execution_count": null,
      "outputs": [
        {
          "output_type": "stream",
          "name": "stdout",
          "text": [
            "You have input movie: Top Gun (1986)\n",
            "Found possible matches in our database: ['Top Gun (1986)', 'Young Guns (1988)', 'Platoon (1986)', 'Bound (1996)', 'Tin Men (1987)', 'Giant (1956)', 'Cop Land (1997)', 'Trees Lounge (1996)', 'Notorious (1946)', 'Apt Pupil (1998)']\n",
            "\n",
            "Recommendation system start to make inference\n",
            "......\n",
            "\n",
            "Recommendations for Top Gun (1986):\n",
            "1: Empire Strikes Back, The (1980), with distance of 0.32214002791495144\n",
            "2: Terminator, The (1984), with distance of 0.3215127728877679\n",
            "3: Star Trek IV: The Voyage Home (1986), with distance of 0.3211673211994531\n",
            "4: Raiders of the Lost Ark (1981), with distance of 0.3159095575968506\n",
            "5: Back to the Future (1985), with distance of 0.31340959580694694\n",
            "6: Batman (1989), with distance of 0.3091229462064913\n",
            "7: Die Hard: With a Vengeance (1995), with distance of 0.3090045221317621\n",
            "8: Speed (1994), with distance of 0.2750609321408167\n",
            "9: True Lies (1994), with distance of 0.2733938224443916\n",
            "10: Jurassic Park (1993), with distance of 0.2565720673939431\n"
          ]
        }
      ]
    },
    {
      "cell_type": "code",
      "source": [
        "movie_to_idx"
      ],
      "metadata": {
        "colab": {
          "base_uri": "https://localhost:8080/"
        },
        "id": "FUiXWvmNMPW_",
        "outputId": "0fbe5df0-4822-4b1b-b9b5-52fd2ef53a33"
      },
      "execution_count": null,
      "outputs": [
        {
          "output_type": "execute_result",
          "data": {
            "text/plain": [
              "{'101 Dalmatians (1996)': 195,\n",
              " '12 Angry Men (1957)': 149,\n",
              " '2 Days in the Valley (1996)': 587,\n",
              " '20,000 Leagues Under the Sea (1954)': 114,\n",
              " '2001: A Space Odyssey (1968)': 109,\n",
              " '39 Steps, The (1935)': 454,\n",
              " 'Absolute Power (1997)': 250,\n",
              " 'Abyss, The (1989)': 135,\n",
              " 'Ace Ventura: Pet Detective (1994)': 54,\n",
              " 'Addams Family Values (1993)': 308,\n",
              " 'Addicted to Love (1997)': 421,\n",
              " 'Adventures of Priscilla, Queen of the Desert, The (1994)': 305,\n",
              " 'Adventures of Robin Hood, The (1938)': 384,\n",
              " 'African Queen, The (1951)': 391,\n",
              " 'Age of Innocence, The (1993)': 309,\n",
              " 'Air Force One (1997)': 258,\n",
              " 'Akira (1988)': 177,\n",
              " 'Aladdin (1992)': 78,\n",
              " 'Alice in Wonderland (1951)': 332,\n",
              " 'Alien (1979)': 154,\n",
              " 'Alien 3 (1992)': 482,\n",
              " 'Alien: Resurrection (1997)': 290,\n",
              " 'Aliens (1986)': 147,\n",
              " 'All About Eve (1950)': 450,\n",
              " 'Amadeus (1984)': 162,\n",
              " 'American President, The (1995)': 496,\n",
              " 'American Werewolf in London, An (1981)': 345,\n",
              " 'American in Paris, An (1951)': 447,\n",
              " 'Amistad (1997)': 530,\n",
              " 'Amityville Horror, The (1979)': 346,\n",
              " 'Anastasia (1997)': 422,\n",
              " 'Angels and Insects (1995)': 16,\n",
              " 'Annie Hall (1977)': 405,\n",
              " \"Antonia's Line (1995)\": 15,\n",
              " 'Apartment, The (1960)': 374,\n",
              " 'Apocalypse Now (1979)': 151,\n",
              " 'Apollo 13 (1995)': 24,\n",
              " 'Apostle, The (1997)': 291,\n",
              " 'Apt Pupil (1998)': 270,\n",
              " 'Aristocats, The (1970)': 85,\n",
              " 'Army of Darkness (1993)': 155,\n",
              " 'Around the World in 80 Days (1956)': 388,\n",
              " 'Arrival, The (1996)': 549,\n",
              " 'Arsenic and Old Lace (1944)': 477,\n",
              " 'As Good As It Gets (1997)': 271,\n",
              " 'Austin Powers: International Man of Mystery (1997)': 216,\n",
              " 'Babe (1995)': 6,\n",
              " 'Back to the Future (1985)': 175,\n",
              " 'Bad Boys (1995)': 23,\n",
              " 'Bananas (1971)': 394,\n",
              " 'Barcelona (1994)': 500,\n",
              " 'Basic Instinct (1992)': 130,\n",
              " 'Batman & Robin (1997)': 219,\n",
              " 'Batman (1989)': 318,\n",
              " 'Batman Forever (1995)': 25,\n",
              " 'Batman Returns (1992)': 201,\n",
              " 'Bean (1997)': 287,\n",
              " 'Beautician and the Beast, The (1997)': 584,\n",
              " 'Beautiful Girls (1996)': 535,\n",
              " 'Beauty and the Beast (1991)': 442,\n",
              " 'Beavis and Butt-head Do America (1996)': 209,\n",
              " 'Bed of Roses (1996)': 238,\n",
              " 'Bedknobs and Broomsticks (1971)': 115,\n",
              " 'Being There (1979)': 481,\n",
              " 'Ben-Hur (1959)': 415,\n",
              " 'Benny & Joon (1993)': 527,\n",
              " 'Better Off Dead... (1985)': 505,\n",
              " 'Big Night (1996)': 111,\n",
              " 'Big Sleep, The (1946)': 414,\n",
              " 'Birdcage, The (1996)': 21,\n",
              " 'Birds, The (1963)': 347,\n",
              " 'Black Sheep (1996)': 300,\n",
              " 'Blade Runner (1982)': 72,\n",
              " 'Blues Brothers, The (1980)': 157,\n",
              " 'Bob Roberts (1992)': 335,\n",
              " 'Bonnie and Clyde (1967)': 395,\n",
              " 'Boogie Nights (1997)': 288,\n",
              " 'Boot, Das (1981)': 406,\n",
              " 'Bound (1996)': 104,\n",
              " 'Brady Bunch Movie, The (1995)': 316,\n",
              " \"Bram Stoker's Dracula (1992)\": 188,\n",
              " 'Braveheart (1995)': 18,\n",
              " 'Brazil (1985)': 146,\n",
              " 'Breakdown (1997)': 254,\n",
              " \"Breakfast at Tiffany's (1961)\": 105,\n",
              " 'Breaking the Waves (1996)': 192,\n",
              " 'Bridge on the River Kwai, The (1957)': 170,\n",
              " 'Bridges of Madison County, The (1995)': 301,\n",
              " 'Bringing Up Baby (1938)': 390,\n",
              " 'Broken Arrow (1996)': 425,\n",
              " 'Brothers McMullen, The (1995)': 22,\n",
              " 'Bullets Over Broadway (1994)': 543,\n",
              " 'Butch Cassidy and the Sundance Kid (1969)': 344,\n",
              " 'Cable Guy, The (1996)': 97,\n",
              " 'Candyman (1992)': 483,\n",
              " 'Cape Fear (1962)': 484,\n",
              " 'Cape Fear (1991)': 189,\n",
              " \"Carlito's Way (1993)\": 61,\n",
              " 'Carrie (1976)': 348,\n",
              " 'Casablanca (1942)': 376,\n",
              " 'Casino (1995)': 497,\n",
              " 'Casper (1995)': 537,\n",
              " 'Cat on a Hot Tin Roof (1958)': 392,\n",
              " 'Celluloid Closet, The (1995)': 545,\n",
              " 'Chain Reaction (1996)': 576,\n",
              " 'Chasing Amy (1997)': 228,\n",
              " 'Chinatown (1974)': 473,\n",
              " 'Christmas Carol, A (1938)': 463,\n",
              " 'Cinderella (1950)': 330,\n",
              " 'Cinema Paradiso (1988)': 141,\n",
              " 'Circle of Friends (1995)': 514,\n",
              " 'Citizen Kane (1941)': 108,\n",
              " 'City Hall (1996)': 498,\n",
              " 'City of Lost Children, The (1995)': 571,\n",
              " 'Clear and Present Danger (1994)': 433,\n",
              " 'Clerks (1994)': 32,\n",
              " 'Client, The (1994)': 296,\n",
              " 'Cliffhanger (1993)': 437,\n",
              " 'Clockwork Orange, A (1971)': 150,\n",
              " 'Close Shave, A (1995)': 321,\n",
              " 'Clueless (1995)': 299,\n",
              " 'Cold Comfort Farm (1995)': 92,\n",
              " 'Con Air (1997)': 590,\n",
              " 'Conan the Barbarian (1981)': 488,\n",
              " 'Conspiracy Theory (1997)': 282,\n",
              " 'Contact (1997)': 222,\n",
              " 'Cook the Thief His Wife & Her Lover, The (1989)': 465,\n",
              " 'Cool Hand Luke (1967)': 413,\n",
              " 'Cool Runnings (1993)': 593,\n",
              " 'Cop Land (1997)': 281,\n",
              " 'Copycat (1995)': 4,\n",
              " 'Courage Under Fire (1996)': 364,\n",
              " 'Craft, The (1996)': 575,\n",
              " 'Crash (1996)': 279,\n",
              " 'Crimson Tide (1995)': 26,\n",
              " 'Crow, The (1994)': 55,\n",
              " 'Crucible, The (1996)': 486,\n",
              " 'Crumb (1994)': 27,\n",
              " 'Crying Game, The (1992)': 461,\n",
              " 'Cyrano de Bergerac (1990)': 178,\n",
              " 'Dances with Wolves (1990)': 80,\n",
              " \"Dante's Peak (1997)\": 277,\n",
              " 'Dave (1993)': 517,\n",
              " 'Day the Earth Stood Still, The (1951)': 338,\n",
              " 'Daylight (1996)': 551,\n",
              " 'Days of Thunder (1990)': 556,\n",
              " 'Dazed and Confused (1993)': 582,\n",
              " 'Dead Man Walking (1995)': 7,\n",
              " 'Dead Poets Society (1989)': 167,\n",
              " 'Deconstructing Harry (1997)': 292,\n",
              " 'Deer Hunter, The (1978)': 412,\n",
              " 'Delicatessen (1991)': 142,\n",
              " 'Demolition Man (1993)': 438,\n",
              " 'Desperado (1995)': 28,\n",
              " 'Devil in a Blue Dress (1995)': 538,\n",
              " \"Devil's Advocate, The (1997)\": 265,\n",
              " \"Devil's Own, The (1997)\": 213,\n",
              " 'Diabolique (1996)': 87,\n",
              " 'Dial M for Murder (1954)': 396,\n",
              " 'Die Hard (1988)': 117,\n",
              " 'Die Hard 2 (1990)': 196,\n",
              " 'Die Hard: With a Vengeance (1995)': 427,\n",
              " 'Dirty Dancing (1987)': 126,\n",
              " 'Diva (1981)': 557,\n",
              " 'Dolores Claiborne (1994)': 33,\n",
              " 'Don Juan DeMarco (1995)': 539,\n",
              " 'Donnie Brasco (1997)': 252,\n",
              " 'Down Periscope (1996)': 574,\n",
              " 'Dr. Strangelove or: How I Learned to Stop Worrying and Love the Bomb (1963)': 367,\n",
              " 'Dragonheart (1996)': 365,\n",
              " 'Duck Soup (1933)': 339,\n",
              " 'Dumb & Dumber (1994)': 540,\n",
              " 'Dumbo (1941)': 393,\n",
              " 'E.T. the Extra-Terrestrial (1982)': 334,\n",
              " 'East of Eden (1955)': 385,\n",
              " 'Eat Drink Man Woman (1994)': 34,\n",
              " 'Ed Wood (1994)': 35,\n",
              " 'Edge, The (1997)': 283,\n",
              " 'Emma (1996)': 242,\n",
              " 'Empire Strikes Back, The (1980)': 143,\n",
              " 'Enchanted April (1991)': 502,\n",
              " 'English Patient, The (1996)': 245,\n",
              " 'Eraser (1996)': 446,\n",
              " 'Escape from L.A. (1996)': 552,\n",
              " 'Escape from New York (1981)': 464,\n",
              " \"Eve's Bayou (1997)\": 567,\n",
              " 'Event Horizon (1997)': 224,\n",
              " 'Everyone Says I Love You (1996)': 274,\n",
              " 'Evil Dead II (1987)': 172,\n",
              " 'Evita (1996)': 248,\n",
              " 'Excess Baggage (1997)': 563,\n",
              " 'Executive Decision (1996)': 491,\n",
              " 'Extreme Measures (1996)': 456,\n",
              " 'Face/Off (1997)': 256,\n",
              " 'Fan, The (1996)': 444,\n",
              " 'Fantasia (1940)': 341,\n",
              " 'Fargo (1996)': 83,\n",
              " 'Father of the Bride (1950)': 452,\n",
              " 'Father of the Bride Part II (1995)': 534,\n",
              " 'Field of Dreams (1989)': 186,\n",
              " 'Fierce Creatures (1997)': 249,\n",
              " 'Fifth Element, The (1997)': 217,\n",
              " 'Firm, The (1993)': 62,\n",
              " 'First Knight (1995)': 511,\n",
              " 'First Wives Club, The (1996)': 369,\n",
              " 'Fish Called Wanda, A (1988)': 124,\n",
              " 'Flubber (1997)': 568,\n",
              " 'Fly Away Home (1996)': 262,\n",
              " 'Forbidden Planet (1956)': 343,\n",
              " 'Forget Paris (1995)': 595,\n",
              " 'Forrest Gump (1994)': 56,\n",
              " 'Four Rooms (1995)': 2,\n",
              " 'Four Weddings and a Funeral (1994)': 57,\n",
              " 'Fox and the Hound, The (1981)': 580,\n",
              " 'French Kiss (1995)': 541,\n",
              " 'Fried Green Tomatoes (1991)': 478,\n",
              " 'Frighteners, The (1996)': 98,\n",
              " 'From Dusk Till Dawn (1996)': 14,\n",
              " 'Fugitive, The (1993)': 63,\n",
              " 'Full Metal Jacket (1987)': 159,\n",
              " 'Full Monty, The (1997)': 229,\n",
              " 'G.I. Jane (1997)': 280,\n",
              " 'Game, The (1997)': 285,\n",
              " 'Gandhi (1982)': 416,\n",
              " 'Gattaca (1997)': 230,\n",
              " 'George of the Jungle (1997)': 223,\n",
              " 'Get Shorty (1995)': 3,\n",
              " 'Ghost (1990)': 317,\n",
              " 'Ghost and the Darkness, The (1996)': 120,\n",
              " 'Giant (1956)': 453,\n",
              " 'Glengarry Glen Ross (1992)': 131,\n",
              " 'Glory (1989)': 471,\n",
              " 'Godfather, The (1972)': 102,\n",
              " 'Godfather: Part II, The (1974)': 158,\n",
              " 'GoldenEye (1995)': 1,\n",
              " 'Gone with the Wind (1939)': 107,\n",
              " 'Good Will Hunting (1997)': 232,\n",
              " 'Good, The Bad and The Ugly, The (1966)': 148,\n",
              " 'GoodFellas (1990)': 153,\n",
              " 'Graduate, The (1967)': 168,\n",
              " 'Grand Day Out, A (1992)': 160,\n",
              " 'Grease (1978)': 352,\n",
              " 'Great Escape, The (1963)': 411,\n",
              " 'Grifters, The (1990)': 466,\n",
              " 'Grosse Pointe Blank (1997)': 215,\n",
              " 'Groundhog Day (1993)': 173,\n",
              " 'Grumpier Old Men (1995)': 592,\n",
              " 'Hamlet (1996)': 594,\n",
              " 'Happy Gilmore (1996)': 536,\n",
              " 'Harold and Maude (1971)': 337,\n",
              " 'Heat (1995)': 233,\n",
              " 'Heathers (1989)': 342,\n",
              " 'Heavenly Creatures (1994)': 430,\n",
              " 'Heavy Metal (1981)': 84,\n",
              " 'Henry V (1989)': 161,\n",
              " 'Hercules (1997)': 585,\n",
              " 'High Noon (1952)': 479,\n",
              " 'Highlander (1986)': 340,\n",
              " 'His Girl Friday (1940)': 387,\n",
              " 'Home Alone (1990)': 77,\n",
              " 'Home for the Holidays (1995)': 509,\n",
              " 'Homeward Bound: The Incredible Journey (1993)': 113,\n",
              " 'Hoodlum (1997)': 257,\n",
              " 'Hoop Dreams (1994)': 36,\n",
              " 'Hot Shots! Part Deux (1993)': 64,\n",
              " 'How to Make an American Quilt (1995)': 581,\n",
              " 'Hudsucker Proxy, The (1994)': 65,\n",
              " 'Hunchback of Notre Dame, The (1996)': 445,\n",
              " 'Hunt for Red October, The (1990)': 227,\n",
              " 'I Know What You Did Last Summer (1997)': 489,\n",
              " 'I.Q. (1994)': 37,\n",
              " 'Ice Storm, The (1997)': 263,\n",
              " 'Immortal Beloved (1994)': 515,\n",
              " 'In & Out (1997)': 259,\n",
              " 'In the Company of Men (1997)': 225,\n",
              " 'In the Line of Fire (1993)': 490,\n",
              " 'In the Name of the Father (1993)': 272,\n",
              " 'Independence Day (ID4) (1996)': 96,\n",
              " 'Indiana Jones and the Last Crusade (1989)': 181,\n",
              " 'Interview with the Vampire (1994)': 431,\n",
              " 'Island of Dr. Moreau, The (1996)': 577,\n",
              " 'It Happened One Night (1934)': 449,\n",
              " \"It's a Wonderful Life (1946)\": 389,\n",
              " 'Jack (1996)': 322,\n",
              " 'Jackal, The (1997)': 494,\n",
              " 'Jackie Brown (1997)': 293,\n",
              " \"Jackie Chan's First Strike (1996)\": 354,\n",
              " 'James and the Giant Peach (1996)': 366,\n",
              " 'Jane Eyre (1996)': 522,\n",
              " 'Jaws (1975)': 204,\n",
              " 'Jaws 2 (1978)': 353,\n",
              " 'Jean de Florette (1986)': 136,\n",
              " 'Jerry Maguire (1996)': 206,\n",
              " 'Jumanji (1995)': 533,\n",
              " 'Jungle Book, The (1994)': 359,\n",
              " 'Jungle2Jungle (1997)': 212,\n",
              " 'Jurassic Park (1993)': 66,\n",
              " 'Juror, The (1996)': 510,\n",
              " 'Kalifornia (1993)': 439,\n",
              " 'Kids in the Hall: Brain Candy (1996)': 88,\n",
              " 'Killing Fields, The (1984)': 417,\n",
              " 'Kingpin (1996)': 323,\n",
              " 'Kiss the Girls (1997)': 284,\n",
              " 'Kolya (1996)': 211,\n",
              " 'Koyaanisqatsi (1983)': 598,\n",
              " 'L.A. Confidential (1997)': 260,\n",
              " 'Last Action Hero (1993)': 310,\n",
              " 'Last Man Standing (1996)': 553,\n",
              " 'Last Supper, The (1995)': 523,\n",
              " 'Last of the Mohicans, The (1992)': 210,\n",
              " 'Lawnmower Man, The (1992)': 118,\n",
              " 'Lawrence of Arabia (1962)': 402,\n",
              " 'Leaving Las Vegas (1995)': 236,\n",
              " 'Legends of the Fall (1994)': 39,\n",
              " 'Liar Liar (1997)': 253,\n",
              " 'Life Less Ordinary, A (1997)': 566,\n",
              " 'Like Water For Chocolate (Como agua para chocolate) (1992)': 357,\n",
              " 'Lion King, The (1994)': 58,\n",
              " 'Little Women (1994)': 499,\n",
              " 'Local Hero (1983)': 407,\n",
              " 'Lone Star (1996)': 99,\n",
              " 'Long Kiss Goodnight, The (1996)': 119,\n",
              " 'Looking for Richard (1996)': 555,\n",
              " 'Lost Highway (1997)': 278,\n",
              " 'Lost World: Jurassic Park, The (1997)': 218,\n",
              " 'Love Bug, The (1969)': 112,\n",
              " 'M*A*S*H (1970)': 182,\n",
              " 'Madness of King George, The (1994)': 40,\n",
              " 'Magnificent Seven, The (1954)': 401,\n",
              " 'Mallrats (1995)': 512,\n",
              " 'Maltese Falcon, The (1941)': 377,\n",
              " 'Man Who Knew Too Little, The (1997)': 289,\n",
              " 'Man Who Would Be King, The (1975)': 419,\n",
              " 'Man Without a Face, The (1993)': 311,\n",
              " 'Manchurian Candidate, The (1962)': 475,\n",
              " 'Manhattan (1979)': 408,\n",
              " 'Manon of the Spring (Manon des sources) (1986)': 137,\n",
              " 'Mars Attacks! (1996)': 205,\n",
              " \"Marvin's Room (1996)\": 246,\n",
              " 'Mary Poppins (1964)': 331,\n",
              " \"Mary Shelley's Frankenstein (1994)\": 432,\n",
              " 'Mask, The (1994)': 59,\n",
              " 'MatchMaker, The (1997)': 529,\n",
              " 'Matilda (1996)': 370,\n",
              " 'Maverick (1994)': 60,\n",
              " \"McHale's Navy (1997)\": 493,\n",
              " 'Men in Black (1997)': 221,\n",
              " 'Menace II Society (1993)': 544,\n",
              " 'Michael (1996)': 559,\n",
              " 'Michael Collins (1996)': 525,\n",
              " 'Midnight in the Garden of Good and Evil (1997)': 268,\n",
              " 'Mighty Aphrodite (1995)': 11,\n",
              " \"Miller's Crossing (1990)\": 409,\n",
              " 'Mimic (1997)': 226,\n",
              " 'Miracle on 34th Street (1994)': 302,\n",
              " 'Mirror Has Two Faces, The (1996)': 191,\n",
              " 'Mission: Impossible (1996)': 320,\n",
              " 'Monty Python and the Holy Grail (1974)': 139,\n",
              " \"Monty Python's Life of Brian (1979)\": 125,\n",
              " 'Mother (1996)': 275,\n",
              " \"Mr. Holland's Opus (1995)\": 13,\n",
              " 'Mr. Smith Goes to Washington (1939)': 110,\n",
              " 'Mrs. Brown (Her Majesty, Mrs. Brown) (1997)': 264,\n",
              " 'Mrs. Doubtfire (1993)': 312,\n",
              " 'Much Ado About Nothing (1993)': 67,\n",
              " 'Mulholland Falls (1996)': 548,\n",
              " 'Multiplicity (1996)': 596,\n",
              " 'Muppet Treasure Island (1996)': 17,\n",
              " 'Murder at 1600 (1997)': 276,\n",
              " 'Murder in the First (1995)': 579,\n",
              " \"Muriel's Wedding (1994)\": 304,\n",
              " \"My Best Friend's Wedding (1997)\": 220,\n",
              " 'My Fair Lady (1964)': 378,\n",
              " 'My Favorite Year (1982)': 327,\n",
              " 'My Fellow Americans (1996)': 558,\n",
              " 'My Left Foot (1989)': 400,\n",
              " 'My Life as a Dog (Mitt liv som hund) (1985)': 418,\n",
              " 'Mystery Science Theater 3000: The Movie (1996)': 89,\n",
              " 'Naked Gun 33 1/3: The Final Insult (1994)': 306,\n",
              " 'Natural Born Killers (1994)': 41,\n",
              " 'Nell (1994)': 516,\n",
              " 'Net, The (1995)': 29,\n",
              " 'Night of the Living Dead (1968)': 455,\n",
              " 'Nightmare Before Christmas, The (1993)': 74,\n",
              " 'Nightmare on Elm Street, A (1984)': 190,\n",
              " 'Nikita (La Femme Nikita) (1990)': 169,\n",
              " 'Nine Months (1995)': 513,\n",
              " 'Nixon (1995)': 355,\n",
              " 'North by Northwest (1959)': 373,\n",
              " 'Nosferatu (Nosferatu, eine Symphonie des Grauens) (1922)': 485,\n",
              " 'Notorious (1946)': 382,\n",
              " 'Nutty Professor, The (1996)': 324,\n",
              " 'Old Yeller (1957)': 328,\n",
              " 'Omen, The (1976)': 349,\n",
              " 'On Golden Pond (1981)': 133,\n",
              " 'Once Upon a Time in America (1984)': 469,\n",
              " 'One Fine Day (1996)': 546,\n",
              " \"One Flew Over the Cuckoo's Nest (1975)\": 297,\n",
              " 'Othello (1995)': 507,\n",
              " 'Outbreak (1995)': 42,\n",
              " 'Parent Trap, The (1961)': 329,\n",
              " 'Patton (1970)': 176,\n",
              " 'Peacemaker, The (1997)': 564,\n",
              " 'People vs. Larry Flynt, The (1996)': 399,\n",
              " 'Perfect World, A (1993)': 492,\n",
              " 'Phantom, The (1996)': 550,\n",
              " 'Phenomenon (1996)': 100,\n",
              " 'Philadelphia (1993)': 518,\n",
              " 'Philadelphia Story, The (1940)': 371,\n",
              " 'Piano, The (1993)': 440,\n",
              " 'Picture Perfect (1997)': 561,\n",
              " 'Pink Floyd - The Wall (1982)': 185,\n",
              " 'Pinocchio (1940)': 319,\n",
              " 'Platoon (1986)': 128,\n",
              " 'Pocahontas (1995)': 423,\n",
              " 'Postino, Il (1994)': 12,\n",
              " 'Postman, The (1997)': 570,\n",
              " \"Preacher's Wife, The (1996)\": 578,\n",
              " 'Pretty Woman (1990)': 521,\n",
              " 'Primal Fear (1996)': 443,\n",
              " 'Princess Bride, The (1987)': 144,\n",
              " 'Private Benjamin (1980)': 138,\n",
              " 'Private Parts (1997)': 588,\n",
              " 'Professional, The (1994)': 43,\n",
              " 'Psycho (1960)': 156,\n",
              " 'Pulp Fiction (1994)': 44,\n",
              " 'Pump Up the Volume (1990)': 476,\n",
              " 'Quiet Man, The (1952)': 468,\n",
              " 'Quiz Show (1994)': 45,\n",
              " 'Raging Bull (1980)': 163,\n",
              " 'Raiders of the Lost Ark (1981)': 145,\n",
              " 'Rainmaker, The (1997)': 266,\n",
              " 'Raise the Red Lantern (1991)': 572,\n",
              " 'Raising Arizona (1987)': 207,\n",
              " 'Ran (1985)': 467,\n",
              " 'Ransom (1996)': 524,\n",
              " 'Real Genius (1985)': 526,\n",
              " 'Reality Bites (1994)': 600,\n",
              " 'Rear Window (1954)': 448,\n",
              " 'Rebecca (1940)': 451,\n",
              " 'Rebel Without a Cause (1955)': 397,\n",
              " 'Red Corner (1997)': 532,\n",
              " 'Red Rock West (1992)': 360,\n",
              " 'Ref, The (1994)': 68,\n",
              " 'Remains of the Day, The (1993)': 69,\n",
              " 'Reservoir Dogs (1992)': 127,\n",
              " 'Restoration (1995)': 237,\n",
              " 'Return of the Jedi (1983)': 152,\n",
              " 'Return of the Pink Panther, The (1974)': 134,\n",
              " 'Richard III (1995)': 8,\n",
              " 'Right Stuff, The (1983)': 164,\n",
              " 'River Wild, The (1994)': 240,\n",
              " 'Rob Roy (1995)': 426,\n",
              " 'Robin Hood: Men in Tights (1993)': 313,\n",
              " 'Robin Hood: Prince of Thieves (1991)': 458,\n",
              " 'Rock, The (1996)': 93,\n",
              " 'Roman Holiday (1953)': 380,\n",
              " \"Romy and Michele's High School Reunion (1997)\": 589,\n",
              " 'Room with a View, A (1986)': 184,\n",
              " 'Rosencrantz and Guildenstern Are Dead (1990)': 472,\n",
              " 'Rosewood (1997)': 251,\n",
              " 'Rudy (1993)': 361,\n",
              " 'Rumble in the Bronx (1995)': 20,\n",
              " 'Sabrina (1954)': 379,\n",
              " 'Sabrina (1995)': 234,\n",
              " 'Saint, The (1997)': 528,\n",
              " 'Santa Clause, The (1994)': 50,\n",
              " \"Schindler's List (1993)\": 273,\n",
              " 'Scream (1996)': 247,\n",
              " 'Scream 2 (1997)': 569,\n",
              " 'Searching for Bobby Fischer (1993)': 70,\n",
              " 'Secret Garden, The (1993)': 441,\n",
              " 'Secret of Roan Inish, The (1994)': 358,\n",
              " 'Secrets & Lies (1996)': 244,\n",
              " 'Sense and Sensibility (1995)': 235,\n",
              " 'Serial Mom (1994)': 314,\n",
              " 'Seven (Se7en) (1995)': 9,\n",
              " 'Seven Years in Tibet (1997)': 495,\n",
              " 'Seventh Seal, The (Sjunde inseglet, Det) (1957)': 470,\n",
              " 'Sex, Lies, and Videotape (1989)': 503,\n",
              " 'Sgt. Bilko (1996)': 86,\n",
              " 'Shadowlands (1993)': 519,\n",
              " 'Shallow Grave (1994)': 599,\n",
              " 'Shawshank Redemption, The (1994)': 51,\n",
              " \"She's So Lovely (1997)\": 562,\n",
              " \"She's the One (1996)\": 597,\n",
              " 'Shine (1996)': 420,\n",
              " 'Shining, The (1980)': 171,\n",
              " 'Short Cuts (1993)': 362,\n",
              " 'Silence of the Lambs, The (1991)': 81,\n",
              " \"Singin' in the Rain (1952)\": 501,\n",
              " 'Sirens (1994)': 520,\n",
              " 'Six Degrees of Separation (1993)': 601,\n",
              " 'Sleeper (1973)': 123,\n",
              " 'Sleepers (1996)': 459,\n",
              " 'Sleepless in Seattle (1993)': 71,\n",
              " 'Sling Blade (1996)': 194,\n",
              " 'Smoke (1995)': 356,\n",
              " 'Sneakers (1992)': 208,\n",
              " 'Snow White and the Seven Dwarfs (1937)': 82,\n",
              " 'So I Married an Axe Murderer (1993)': 73,\n",
              " 'Some Kind of Wonderful (1987)': 602,\n",
              " 'Some Like It Hot (1959)': 375,\n",
              " 'Somewhere in Time (1980)': 480,\n",
              " \"Sophie's Choice (1982)\": 462,\n",
              " 'Soul Food (1997)': 565,\n",
              " 'Sound of Music, The (1965)': 116,\n",
              " 'Space Jam (1996)': 547,\n",
              " 'Spawn (1997)': 298,\n",
              " 'Speed (1994)': 434,\n",
              " 'Spitfire Grill, The (1996)': 101,\n",
              " 'Stand by Me (1986)': 474,\n",
              " 'Star Trek III: The Search for Spock (1984)': 199,\n",
              " 'Star Trek IV: The Voyage Home (1986)': 200,\n",
              " 'Star Trek V: The Final Frontier (1989)': 351,\n",
              " 'Star Trek VI: The Undiscovered Country (1991)': 197,\n",
              " 'Star Trek: First Contact (1996)': 193,\n",
              " 'Star Trek: Generations (1994)': 303,\n",
              " 'Star Trek: The Motion Picture (1979)': 350,\n",
              " 'Star Trek: The Wrath of Khan (1982)': 198,\n",
              " 'Star Wars (1977)': 38,\n",
              " 'Stargate (1994)': 49,\n",
              " 'Starship Troopers (1997)': 231,\n",
              " 'Stealing Beauty (1996)': 586,\n",
              " 'Sting, The (1973)': 165,\n",
              " 'Strange Days (1995)': 30,\n",
              " 'Streetcar Named Desire, A (1951)': 398,\n",
              " 'Strictly Ballroom (1992)': 504,\n",
              " 'Striptease (1996)': 95,\n",
              " 'Sunset Blvd. (1950)': 381,\n",
              " 'Supercop (1992)': 103,\n",
              " 'Swingers (1996)': 121,\n",
              " 'Sword in the Stone, The (1963)': 457,\n",
              " 'Tales from the Crypt Presents: Bordello of Blood (1996)': 326,\n",
              " 'Taxi Driver (1976)': 19,\n",
              " 'Terminator 2: Judgment Day (1991)': 79,\n",
              " 'Terminator, The (1984)': 166,\n",
              " 'That Thing You Do! (1996)': 554,\n",
              " 'Thin Man, The (1934)': 386,\n",
              " \"Things to Do in Denver when You're Dead (1995)\": 424,\n",
              " 'Third Man, The (1949)': 404,\n",
              " 'This Is Spinal Tap (1984)': 180,\n",
              " 'Three Colors: Blue (1993)': 47,\n",
              " 'Three Colors: Red (1994)': 46,\n",
              " 'Three Colors: White (1994)': 48,\n",
              " 'Three Musketeers, The (1993)': 315,\n",
              " 'Time to Kill, A (1996)': 241,\n",
              " 'Tin Cup (1996)': 243,\n",
              " 'Tin Men (1987)': 506,\n",
              " 'Titanic (1997)': 269,\n",
              " 'To Catch a Thief (1955)': 383,\n",
              " 'To Die For (1995)': 508,\n",
              " 'To Kill a Mockingbird (1962)': 336,\n",
              " 'To Wong Foo, Thanks for Everything! Julie Newmar (1995)': 31,\n",
              " 'Tombstone (1993)': 363,\n",
              " 'Tommy Boy (1995)': 542,\n",
              " 'Tomorrow Never Dies (1997)': 531,\n",
              " 'Top Gun (1986)': 132,\n",
              " 'Toy Story (1995)': 0,\n",
              " 'Trainspotting (1996)': 368,\n",
              " 'Treasure of the Sierra Madre, The (1948)': 410,\n",
              " 'Trees Lounge (1996)': 591,\n",
              " 'True Lies (1994)': 307,\n",
              " 'True Romance (1993)': 75,\n",
              " 'Truth About Cats & Dogs, The (1996)': 90,\n",
              " 'Twelve Monkeys (1995)': 5,\n",
              " 'Twister (1996)': 94,\n",
              " 'U Turn (1997)': 286,\n",
              " \"Ulee's Gold (1997)\": 261,\n",
              " 'Unbearable Lightness of Being, The (1988)': 183,\n",
              " 'Under Siege (1992)': 203,\n",
              " 'Unforgiven (1992)': 174,\n",
              " 'Up Close and Personal (1996)': 239,\n",
              " 'Usual Suspects, The (1995)': 10,\n",
              " 'Vegas Vacation (1997)': 560,\n",
              " 'Vertigo (1958)': 372,\n",
              " 'Very Brady Sequel, A (1996)': 325,\n",
              " 'Victor/Victoria (1982)': 460,\n",
              " 'Volcano (1997)': 487,\n",
              " 'Wag the Dog (1997)': 294,\n",
              " 'Walk in the Clouds, A (1995)': 428,\n",
              " 'Wallace & Gromit: The Best of Aardman Animation (1996)': 91,\n",
              " 'Waterworld (1995)': 429,\n",
              " 'Wedding Singer, The (1998)': 295,\n",
              " \"Weekend at Bernie's (1989)\": 129,\n",
              " 'Welcome to the Dollhouse (1995)': 76,\n",
              " \"What's Eating Gilbert Grape (1993)\": 52,\n",
              " 'When Harry Met Sally... (1989)': 187,\n",
              " 'While You Were Sleeping (1995)': 53,\n",
              " 'White Squall (1996)': 573,\n",
              " \"William Shakespeare's Romeo and Juliet (1996)\": 333,\n",
              " 'Willy Wonka and the Chocolate Factory (1971)': 122,\n",
              " 'Wings of Desire (1987)': 403,\n",
              " 'Wings of the Dove, The (1997)': 267,\n",
              " 'Winnie the Pooh and the Blustery Day (1968)': 583,\n",
              " 'Wizard of Oz, The (1939)': 106,\n",
              " 'Wolf (1994)': 435,\n",
              " 'Wrong Trousers, The (1993)': 140,\n",
              " 'Wyatt Earp (1994)': 436,\n",
              " 'Young Frankenstein (1974)': 179,\n",
              " 'Young Guns (1988)': 202}"
            ]
          },
          "metadata": {},
          "execution_count": 69
        }
      ]
    }
  ]
}